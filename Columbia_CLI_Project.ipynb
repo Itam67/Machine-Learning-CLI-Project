{
 "cells": [
  {
   "cell_type": "markdown",
   "metadata": {},
   "source": [
    "# Business Usecase: Predict the loan amount"
   ]
  },
  {
   "cell_type": "markdown",
   "metadata": {},
   "source": [
    "### Exploratary Data Analysis"
   ]
  },
  {
   "cell_type": "markdown",
   "metadata": {},
   "source": [
    "Import packages"
   ]
  },
  {
   "cell_type": "code",
   "execution_count": 1,
   "metadata": {},
   "outputs": [],
   "source": [
    "import pandas as pd\n",
    "import numpy as np\n",
    "import seaborn as sns\n",
    "import matplotlib.pyplot as plt\n",
    "sns.set_style('whitegrid')\n",
    "\n",
    "import sklearn "
   ]
  },
  {
   "cell_type": "markdown",
   "metadata": {},
   "source": [
    "Get rid of the null values"
   ]
  },
  {
   "cell_type": "code",
   "execution_count": 2,
   "metadata": {},
   "outputs": [],
   "source": [
    "df = pd.read_csv('Columbia_CLI.csv')"
   ]
  },
  {
   "cell_type": "code",
   "execution_count": 3,
   "metadata": {},
   "outputs": [],
   "source": [
    "def drop_columns(data):\n",
    "    data2 = data\n",
    "    for col in data.columns:\n",
    "        if data[col].isnull().sum() >= 500:\n",
    "            data2 = data2.drop(col,axis=1)\n",
    "    return data2\n"
   ]
  },
  {
   "cell_type": "code",
   "execution_count": 4,
   "metadata": {},
   "outputs": [],
   "source": [
    "df = drop_columns(df)"
   ]
  },
  {
   "cell_type": "code",
   "execution_count": 5,
   "metadata": {},
   "outputs": [
    {
     "data": {
      "text/html": [
       "<div>\n",
       "<style scoped>\n",
       "    .dataframe tbody tr th:only-of-type {\n",
       "        vertical-align: middle;\n",
       "    }\n",
       "\n",
       "    .dataframe tbody tr th {\n",
       "        vertical-align: top;\n",
       "    }\n",
       "\n",
       "    .dataframe thead th {\n",
       "        text-align: right;\n",
       "    }\n",
       "</style>\n",
       "<table border=\"1\" class=\"dataframe\">\n",
       "  <thead>\n",
       "    <tr style=\"text-align: right;\">\n",
       "      <th></th>\n",
       "      <th>id</th>\n",
       "      <th>member_id</th>\n",
       "      <th>CLI</th>\n",
       "      <th>term</th>\n",
       "      <th>int_rate</th>\n",
       "      <th>installment</th>\n",
       "      <th>grade</th>\n",
       "      <th>sub_grade</th>\n",
       "      <th>emp_title</th>\n",
       "      <th>emp_length</th>\n",
       "      <th>...</th>\n",
       "      <th>total_rec_late_fee</th>\n",
       "      <th>recoveries</th>\n",
       "      <th>collection_recovery_fee</th>\n",
       "      <th>last_pymnt_d</th>\n",
       "      <th>last_pymnt_amnt</th>\n",
       "      <th>last_credit_pull_d</th>\n",
       "      <th>collections_12_mths_ex_med</th>\n",
       "      <th>policy_code</th>\n",
       "      <th>application_type</th>\n",
       "      <th>acc_now_delinq</th>\n",
       "    </tr>\n",
       "  </thead>\n",
       "  <tbody>\n",
       "    <tr>\n",
       "      <th>0</th>\n",
       "      <td>1077501</td>\n",
       "      <td>1296599</td>\n",
       "      <td>5000</td>\n",
       "      <td>36 months</td>\n",
       "      <td>10.65</td>\n",
       "      <td>162.87</td>\n",
       "      <td>B</td>\n",
       "      <td>B2</td>\n",
       "      <td>NaN</td>\n",
       "      <td>10+ years</td>\n",
       "      <td>...</td>\n",
       "      <td>0.00</td>\n",
       "      <td>0.00</td>\n",
       "      <td>0.00</td>\n",
       "      <td>15-Jan</td>\n",
       "      <td>171.62</td>\n",
       "      <td>16-Jan</td>\n",
       "      <td>0</td>\n",
       "      <td>1</td>\n",
       "      <td>INDIVIDUAL</td>\n",
       "      <td>0</td>\n",
       "    </tr>\n",
       "    <tr>\n",
       "      <th>1</th>\n",
       "      <td>1077430</td>\n",
       "      <td>1314167</td>\n",
       "      <td>2500</td>\n",
       "      <td>60 months</td>\n",
       "      <td>15.27</td>\n",
       "      <td>59.83</td>\n",
       "      <td>C</td>\n",
       "      <td>C4</td>\n",
       "      <td>Ryder</td>\n",
       "      <td>&lt; 1 year</td>\n",
       "      <td>...</td>\n",
       "      <td>0.00</td>\n",
       "      <td>117.08</td>\n",
       "      <td>1.11</td>\n",
       "      <td>13-Apr</td>\n",
       "      <td>119.66</td>\n",
       "      <td>13-Sep</td>\n",
       "      <td>0</td>\n",
       "      <td>1</td>\n",
       "      <td>INDIVIDUAL</td>\n",
       "      <td>0</td>\n",
       "    </tr>\n",
       "    <tr>\n",
       "      <th>2</th>\n",
       "      <td>1077175</td>\n",
       "      <td>1313524</td>\n",
       "      <td>2400</td>\n",
       "      <td>36 months</td>\n",
       "      <td>15.96</td>\n",
       "      <td>84.33</td>\n",
       "      <td>C</td>\n",
       "      <td>C5</td>\n",
       "      <td>NaN</td>\n",
       "      <td>10+ years</td>\n",
       "      <td>...</td>\n",
       "      <td>0.00</td>\n",
       "      <td>0.00</td>\n",
       "      <td>0.00</td>\n",
       "      <td>14-Jun</td>\n",
       "      <td>649.91</td>\n",
       "      <td>16-Jan</td>\n",
       "      <td>0</td>\n",
       "      <td>1</td>\n",
       "      <td>INDIVIDUAL</td>\n",
       "      <td>0</td>\n",
       "    </tr>\n",
       "    <tr>\n",
       "      <th>3</th>\n",
       "      <td>1076863</td>\n",
       "      <td>1277178</td>\n",
       "      <td>10000</td>\n",
       "      <td>36 months</td>\n",
       "      <td>13.49</td>\n",
       "      <td>339.31</td>\n",
       "      <td>C</td>\n",
       "      <td>C1</td>\n",
       "      <td>AIR RESOURCES BOARD</td>\n",
       "      <td>10+ years</td>\n",
       "      <td>...</td>\n",
       "      <td>16.97</td>\n",
       "      <td>0.00</td>\n",
       "      <td>0.00</td>\n",
       "      <td>15-Jan</td>\n",
       "      <td>357.48</td>\n",
       "      <td>15-Jan</td>\n",
       "      <td>0</td>\n",
       "      <td>1</td>\n",
       "      <td>INDIVIDUAL</td>\n",
       "      <td>0</td>\n",
       "    </tr>\n",
       "    <tr>\n",
       "      <th>4</th>\n",
       "      <td>1075358</td>\n",
       "      <td>1311748</td>\n",
       "      <td>3000</td>\n",
       "      <td>60 months</td>\n",
       "      <td>12.69</td>\n",
       "      <td>67.79</td>\n",
       "      <td>B</td>\n",
       "      <td>B5</td>\n",
       "      <td>University Medical Group</td>\n",
       "      <td>1 year</td>\n",
       "      <td>...</td>\n",
       "      <td>0.00</td>\n",
       "      <td>0.00</td>\n",
       "      <td>0.00</td>\n",
       "      <td>16-Jan</td>\n",
       "      <td>67.79</td>\n",
       "      <td>16-Jan</td>\n",
       "      <td>0</td>\n",
       "      <td>1</td>\n",
       "      <td>INDIVIDUAL</td>\n",
       "      <td>0</td>\n",
       "    </tr>\n",
       "  </tbody>\n",
       "</table>\n",
       "<p>5 rows × 46 columns</p>\n",
       "</div>"
      ],
      "text/plain": [
       "        id  member_id    CLI        term  int_rate  installment grade  \\\n",
       "0  1077501    1296599   5000   36 months     10.65       162.87     B   \n",
       "1  1077430    1314167   2500   60 months     15.27        59.83     C   \n",
       "2  1077175    1313524   2400   36 months     15.96        84.33     C   \n",
       "3  1076863    1277178  10000   36 months     13.49       339.31     C   \n",
       "4  1075358    1311748   3000   60 months     12.69        67.79     B   \n",
       "\n",
       "  sub_grade                 emp_title emp_length  ... total_rec_late_fee  \\\n",
       "0        B2                       NaN  10+ years  ...               0.00   \n",
       "1        C4                     Ryder   < 1 year  ...               0.00   \n",
       "2        C5                       NaN  10+ years  ...               0.00   \n",
       "3        C1       AIR RESOURCES BOARD  10+ years  ...              16.97   \n",
       "4        B5  University Medical Group     1 year  ...               0.00   \n",
       "\n",
       "   recoveries collection_recovery_fee last_pymnt_d last_pymnt_amnt  \\\n",
       "0        0.00                    0.00       15-Jan          171.62   \n",
       "1      117.08                    1.11       13-Apr          119.66   \n",
       "2        0.00                    0.00       14-Jun          649.91   \n",
       "3        0.00                    0.00       15-Jan          357.48   \n",
       "4        0.00                    0.00       16-Jan           67.79   \n",
       "\n",
       "  last_credit_pull_d collections_12_mths_ex_med policy_code application_type  \\\n",
       "0             16-Jan                          0           1       INDIVIDUAL   \n",
       "1             13-Sep                          0           1       INDIVIDUAL   \n",
       "2             16-Jan                          0           1       INDIVIDUAL   \n",
       "3             15-Jan                          0           1       INDIVIDUAL   \n",
       "4             16-Jan                          0           1       INDIVIDUAL   \n",
       "\n",
       "  acc_now_delinq  \n",
       "0              0  \n",
       "1              0  \n",
       "2              0  \n",
       "3              0  \n",
       "4              0  \n",
       "\n",
       "[5 rows x 46 columns]"
      ]
     },
     "execution_count": 5,
     "metadata": {},
     "output_type": "execute_result"
    }
   ],
   "source": [
    "df.head()"
   ]
  },
  {
   "cell_type": "code",
   "execution_count": 6,
   "metadata": {},
   "outputs": [
    {
     "data": {
      "text/plain": [
       "id                              0\n",
       "member_id                       0\n",
       "CLI                             0\n",
       "term                            0\n",
       "int_rate                        0\n",
       "installment                     0\n",
       "grade                           0\n",
       "sub_grade                       0\n",
       "emp_title                      51\n",
       "emp_length                     17\n",
       "home_ownership                  0\n",
       "annual_inc                      0\n",
       "verification_status             0\n",
       "loan_status                     0\n",
       "pymnt_plan                      0\n",
       "desc                          432\n",
       "purpose                         0\n",
       "title                           0\n",
       "zip_code                        0\n",
       "addr_state                      0\n",
       "dti                             0\n",
       "delinq_2yrs                     0\n",
       "earliest_cr_line                0\n",
       "inq_last_6mths                  0\n",
       "open_acc                        0\n",
       "pub_rec                         0\n",
       "revol_bal                       0\n",
       "revol_util                      0\n",
       "total_acc                       0\n",
       "initial_list_status             0\n",
       "out_prncp                       0\n",
       "out_prncp_inv                   0\n",
       "total_pymnt                     0\n",
       "total_pymnt_inv                 0\n",
       "total_rec_prncp                 0\n",
       "total_rec_int                   0\n",
       "total_rec_late_fee              0\n",
       "recoveries                      0\n",
       "collection_recovery_fee         0\n",
       "last_pymnt_d                    1\n",
       "last_pymnt_amnt                 0\n",
       "last_credit_pull_d              0\n",
       "collections_12_mths_ex_med      0\n",
       "policy_code                     0\n",
       "application_type                0\n",
       "acc_now_delinq                  0\n",
       "dtype: int64"
      ]
     },
     "execution_count": 6,
     "metadata": {},
     "output_type": "execute_result"
    }
   ],
   "source": [
    "df.isnull().sum()"
   ]
  },
  {
   "cell_type": "code",
   "execution_count": 7,
   "metadata": {},
   "outputs": [
    {
     "data": {
      "text/plain": [
       "0    10+ years\n",
       "dtype: object"
      ]
     },
     "execution_count": 7,
     "metadata": {},
     "output_type": "execute_result"
    }
   ],
   "source": [
    "df['emp_length'].mode()"
   ]
  },
  {
   "cell_type": "code",
   "execution_count": 8,
   "metadata": {},
   "outputs": [
    {
     "name": "stdout",
     "output_type": "stream",
     "text": [
      "<class 'pandas.core.frame.DataFrame'>\n",
      "RangeIndex: 999 entries, 0 to 998\n",
      "Data columns (total 46 columns):\n",
      " #   Column                      Non-Null Count  Dtype  \n",
      "---  ------                      --------------  -----  \n",
      " 0   id                          999 non-null    int64  \n",
      " 1   member_id                   999 non-null    int64  \n",
      " 2   CLI                         999 non-null    int64  \n",
      " 3   term                        999 non-null    object \n",
      " 4   int_rate                    999 non-null    float64\n",
      " 5   installment                 999 non-null    float64\n",
      " 6   grade                       999 non-null    object \n",
      " 7   sub_grade                   999 non-null    object \n",
      " 8   emp_title                   948 non-null    object \n",
      " 9   emp_length                  982 non-null    object \n",
      " 10  home_ownership              999 non-null    object \n",
      " 11  annual_inc                  999 non-null    float64\n",
      " 12  verification_status         999 non-null    object \n",
      " 13  loan_status                 999 non-null    object \n",
      " 14  pymnt_plan                  999 non-null    object \n",
      " 15  desc                        567 non-null    object \n",
      " 16  purpose                     999 non-null    object \n",
      " 17  title                       999 non-null    object \n",
      " 18  zip_code                    999 non-null    object \n",
      " 19  addr_state                  999 non-null    object \n",
      " 20  dti                         999 non-null    float64\n",
      " 21  delinq_2yrs                 999 non-null    int64  \n",
      " 22  earliest_cr_line            999 non-null    object \n",
      " 23  inq_last_6mths              999 non-null    int64  \n",
      " 24  open_acc                    999 non-null    int64  \n",
      " 25  pub_rec                     999 non-null    int64  \n",
      " 26  revol_bal                   999 non-null    int64  \n",
      " 27  revol_util                  999 non-null    float64\n",
      " 28  total_acc                   999 non-null    int64  \n",
      " 29  initial_list_status         999 non-null    object \n",
      " 30  out_prncp                   999 non-null    float64\n",
      " 31  out_prncp_inv               999 non-null    float64\n",
      " 32  total_pymnt                 999 non-null    float64\n",
      " 33  total_pymnt_inv             999 non-null    float64\n",
      " 34  total_rec_prncp             999 non-null    float64\n",
      " 35  total_rec_int               999 non-null    float64\n",
      " 36  total_rec_late_fee          999 non-null    float64\n",
      " 37  recoveries                  999 non-null    float64\n",
      " 38  collection_recovery_fee     999 non-null    float64\n",
      " 39  last_pymnt_d                998 non-null    object \n",
      " 40  last_pymnt_amnt             999 non-null    float64\n",
      " 41  last_credit_pull_d          999 non-null    object \n",
      " 42  collections_12_mths_ex_med  999 non-null    int64  \n",
      " 43  policy_code                 999 non-null    int64  \n",
      " 44  application_type            999 non-null    object \n",
      " 45  acc_now_delinq              999 non-null    int64  \n",
      "dtypes: float64(15), int64(12), object(19)\n",
      "memory usage: 359.1+ KB\n"
     ]
    }
   ],
   "source": [
    "df.info()"
   ]
  },
  {
   "cell_type": "code",
   "execution_count": 9,
   "metadata": {},
   "outputs": [
    {
     "data": {
      "text/html": [
       "<div>\n",
       "<style scoped>\n",
       "    .dataframe tbody tr th:only-of-type {\n",
       "        vertical-align: middle;\n",
       "    }\n",
       "\n",
       "    .dataframe tbody tr th {\n",
       "        vertical-align: top;\n",
       "    }\n",
       "\n",
       "    .dataframe thead th {\n",
       "        text-align: right;\n",
       "    }\n",
       "</style>\n",
       "<table border=\"1\" class=\"dataframe\">\n",
       "  <thead>\n",
       "    <tr style=\"text-align: right;\">\n",
       "      <th></th>\n",
       "      <th>id</th>\n",
       "      <th>member_id</th>\n",
       "      <th>CLI</th>\n",
       "      <th>int_rate</th>\n",
       "      <th>installment</th>\n",
       "      <th>annual_inc</th>\n",
       "      <th>dti</th>\n",
       "      <th>delinq_2yrs</th>\n",
       "      <th>inq_last_6mths</th>\n",
       "      <th>open_acc</th>\n",
       "      <th>...</th>\n",
       "      <th>total_pymnt_inv</th>\n",
       "      <th>total_rec_prncp</th>\n",
       "      <th>total_rec_int</th>\n",
       "      <th>total_rec_late_fee</th>\n",
       "      <th>recoveries</th>\n",
       "      <th>collection_recovery_fee</th>\n",
       "      <th>last_pymnt_amnt</th>\n",
       "      <th>collections_12_mths_ex_med</th>\n",
       "      <th>policy_code</th>\n",
       "      <th>acc_now_delinq</th>\n",
       "    </tr>\n",
       "  </thead>\n",
       "  <tbody>\n",
       "    <tr>\n",
       "      <th>id</th>\n",
       "      <td>1.000000</td>\n",
       "      <td>0.830797</td>\n",
       "      <td>0.030180</td>\n",
       "      <td>0.082866</td>\n",
       "      <td>0.044599</td>\n",
       "      <td>0.003609</td>\n",
       "      <td>-0.007914</td>\n",
       "      <td>0.003688</td>\n",
       "      <td>0.026016</td>\n",
       "      <td>-0.014925</td>\n",
       "      <td>...</td>\n",
       "      <td>0.016362</td>\n",
       "      <td>0.016454</td>\n",
       "      <td>0.012629</td>\n",
       "      <td>0.009793</td>\n",
       "      <td>-0.014061</td>\n",
       "      <td>-0.022065</td>\n",
       "      <td>0.019447</td>\n",
       "      <td>NaN</td>\n",
       "      <td>NaN</td>\n",
       "      <td>NaN</td>\n",
       "    </tr>\n",
       "    <tr>\n",
       "      <th>member_id</th>\n",
       "      <td>0.830797</td>\n",
       "      <td>1.000000</td>\n",
       "      <td>0.028398</td>\n",
       "      <td>0.084302</td>\n",
       "      <td>0.042440</td>\n",
       "      <td>-0.007242</td>\n",
       "      <td>-0.034455</td>\n",
       "      <td>-0.001928</td>\n",
       "      <td>-0.011848</td>\n",
       "      <td>-0.049054</td>\n",
       "      <td>...</td>\n",
       "      <td>0.013837</td>\n",
       "      <td>0.009533</td>\n",
       "      <td>0.018857</td>\n",
       "      <td>0.010487</td>\n",
       "      <td>-0.002774</td>\n",
       "      <td>-0.012378</td>\n",
       "      <td>-0.007624</td>\n",
       "      <td>NaN</td>\n",
       "      <td>NaN</td>\n",
       "      <td>NaN</td>\n",
       "    </tr>\n",
       "    <tr>\n",
       "      <th>CLI</th>\n",
       "      <td>0.030180</td>\n",
       "      <td>0.028398</td>\n",
       "      <td>1.000000</td>\n",
       "      <td>0.239369</td>\n",
       "      <td>0.953777</td>\n",
       "      <td>0.399354</td>\n",
       "      <td>0.067937</td>\n",
       "      <td>-0.040099</td>\n",
       "      <td>0.001926</td>\n",
       "      <td>0.133464</td>\n",
       "      <td>...</td>\n",
       "      <td>0.885008</td>\n",
       "      <td>0.831625</td>\n",
       "      <td>0.690638</td>\n",
       "      <td>0.123866</td>\n",
       "      <td>0.100024</td>\n",
       "      <td>0.053854</td>\n",
       "      <td>0.393859</td>\n",
       "      <td>NaN</td>\n",
       "      <td>NaN</td>\n",
       "      <td>NaN</td>\n",
       "    </tr>\n",
       "    <tr>\n",
       "      <th>int_rate</th>\n",
       "      <td>0.082866</td>\n",
       "      <td>0.084302</td>\n",
       "      <td>0.239369</td>\n",
       "      <td>1.000000</td>\n",
       "      <td>0.176843</td>\n",
       "      <td>0.085052</td>\n",
       "      <td>0.113889</td>\n",
       "      <td>0.135494</td>\n",
       "      <td>0.251060</td>\n",
       "      <td>0.111587</td>\n",
       "      <td>...</td>\n",
       "      <td>0.229659</td>\n",
       "      <td>0.065930</td>\n",
       "      <td>0.543451</td>\n",
       "      <td>0.061886</td>\n",
       "      <td>0.115847</td>\n",
       "      <td>0.092008</td>\n",
       "      <td>0.138034</td>\n",
       "      <td>NaN</td>\n",
       "      <td>NaN</td>\n",
       "      <td>NaN</td>\n",
       "    </tr>\n",
       "    <tr>\n",
       "      <th>installment</th>\n",
       "      <td>0.044599</td>\n",
       "      <td>0.042440</td>\n",
       "      <td>0.953777</td>\n",
       "      <td>0.176843</td>\n",
       "      <td>1.000000</td>\n",
       "      <td>0.391628</td>\n",
       "      <td>0.054418</td>\n",
       "      <td>-0.039032</td>\n",
       "      <td>-0.002207</td>\n",
       "      <td>0.120404</td>\n",
       "      <td>...</td>\n",
       "      <td>0.852536</td>\n",
       "      <td>0.838105</td>\n",
       "      <td>0.564917</td>\n",
       "      <td>0.110985</td>\n",
       "      <td>0.065846</td>\n",
       "      <td>0.022312</td>\n",
       "      <td>0.352021</td>\n",
       "      <td>NaN</td>\n",
       "      <td>NaN</td>\n",
       "      <td>NaN</td>\n",
       "    </tr>\n",
       "  </tbody>\n",
       "</table>\n",
       "<p>5 rows × 27 columns</p>\n",
       "</div>"
      ],
      "text/plain": [
       "                   id  member_id       CLI  int_rate  installment  annual_inc  \\\n",
       "id           1.000000   0.830797  0.030180  0.082866     0.044599    0.003609   \n",
       "member_id    0.830797   1.000000  0.028398  0.084302     0.042440   -0.007242   \n",
       "CLI          0.030180   0.028398  1.000000  0.239369     0.953777    0.399354   \n",
       "int_rate     0.082866   0.084302  0.239369  1.000000     0.176843    0.085052   \n",
       "installment  0.044599   0.042440  0.953777  0.176843     1.000000    0.391628   \n",
       "\n",
       "                  dti  delinq_2yrs  inq_last_6mths  open_acc  ...  \\\n",
       "id          -0.007914     0.003688        0.026016 -0.014925  ...   \n",
       "member_id   -0.034455    -0.001928       -0.011848 -0.049054  ...   \n",
       "CLI          0.067937    -0.040099        0.001926  0.133464  ...   \n",
       "int_rate     0.113889     0.135494        0.251060  0.111587  ...   \n",
       "installment  0.054418    -0.039032       -0.002207  0.120404  ...   \n",
       "\n",
       "             total_pymnt_inv  total_rec_prncp  total_rec_int  \\\n",
       "id                  0.016362         0.016454       0.012629   \n",
       "member_id           0.013837         0.009533       0.018857   \n",
       "CLI                 0.885008         0.831625       0.690638   \n",
       "int_rate            0.229659         0.065930       0.543451   \n",
       "installment         0.852536         0.838105       0.564917   \n",
       "\n",
       "             total_rec_late_fee  recoveries  collection_recovery_fee  \\\n",
       "id                     0.009793   -0.014061                -0.022065   \n",
       "member_id              0.010487   -0.002774                -0.012378   \n",
       "CLI                    0.123866    0.100024                 0.053854   \n",
       "int_rate               0.061886    0.115847                 0.092008   \n",
       "installment            0.110985    0.065846                 0.022312   \n",
       "\n",
       "             last_pymnt_amnt  collections_12_mths_ex_med  policy_code  \\\n",
       "id                  0.019447                         NaN          NaN   \n",
       "member_id          -0.007624                         NaN          NaN   \n",
       "CLI                 0.393859                         NaN          NaN   \n",
       "int_rate            0.138034                         NaN          NaN   \n",
       "installment         0.352021                         NaN          NaN   \n",
       "\n",
       "             acc_now_delinq  \n",
       "id                      NaN  \n",
       "member_id               NaN  \n",
       "CLI                     NaN  \n",
       "int_rate                NaN  \n",
       "installment             NaN  \n",
       "\n",
       "[5 rows x 27 columns]"
      ]
     },
     "execution_count": 9,
     "metadata": {},
     "output_type": "execute_result"
    }
   ],
   "source": [
    "#sns.heatmap(df.corr())\n",
    "df.corr().head()"
   ]
  },
  {
   "cell_type": "markdown",
   "metadata": {},
   "source": [
    "#### Correlation each label has with CLI"
   ]
  },
  {
   "cell_type": "code",
   "execution_count": 10,
   "metadata": {},
   "outputs": [
    {
     "data": {
      "text/plain": [
       "CLI                           1.000000\n",
       "installment                   0.953777\n",
       "total_pymnt                   0.887862\n",
       "total_pymnt_inv               0.885008\n",
       "total_rec_prncp               0.831625\n",
       "total_rec_int                 0.690638\n",
       "annual_inc                    0.399354\n",
       "last_pymnt_amnt               0.393859\n",
       "revol_bal                     0.364922\n",
       "out_prncp_inv                 0.275282\n",
       "out_prncp                     0.275183\n",
       "int_rate                      0.239369\n",
       "total_acc                     0.234801\n",
       "open_acc                      0.133464\n",
       "total_rec_late_fee            0.123866\n",
       "pub_rec                       0.108388\n",
       "recoveries                    0.100024\n",
       "dti                           0.067937\n",
       "revol_util                    0.062898\n",
       "collection_recovery_fee       0.053854\n",
       "delinq_2yrs                   0.040099\n",
       "id                            0.030180\n",
       "member_id                     0.028398\n",
       "inq_last_6mths                0.001926\n",
       "collections_12_mths_ex_med         NaN\n",
       "policy_code                        NaN\n",
       "acc_now_delinq                     NaN\n",
       "Name: CLI, dtype: float64"
      ]
     },
     "execution_count": 10,
     "metadata": {},
     "output_type": "execute_result"
    }
   ],
   "source": [
    "df1 = df.corr()['CLI']\n",
    "df1 = df1.apply(abs)\n",
    "df1.sort_values(ascending=False)"
   ]
  },
  {
   "cell_type": "markdown",
   "metadata": {},
   "source": [
    "#### Dropping irrelevant columns"
   ]
  },
  {
   "cell_type": "code",
   "execution_count": 11,
   "metadata": {},
   "outputs": [
    {
     "data": {
      "text/html": [
       "<div>\n",
       "<style scoped>\n",
       "    .dataframe tbody tr th:only-of-type {\n",
       "        vertical-align: middle;\n",
       "    }\n",
       "\n",
       "    .dataframe tbody tr th {\n",
       "        vertical-align: top;\n",
       "    }\n",
       "\n",
       "    .dataframe thead th {\n",
       "        text-align: right;\n",
       "    }\n",
       "</style>\n",
       "<table border=\"1\" class=\"dataframe\">\n",
       "  <thead>\n",
       "    <tr style=\"text-align: right;\">\n",
       "      <th></th>\n",
       "      <th>id</th>\n",
       "      <th>CLI</th>\n",
       "      <th>term</th>\n",
       "      <th>int_rate</th>\n",
       "      <th>installment</th>\n",
       "      <th>grade</th>\n",
       "      <th>sub_grade</th>\n",
       "      <th>emp_title</th>\n",
       "      <th>emp_length</th>\n",
       "      <th>home_ownership</th>\n",
       "      <th>...</th>\n",
       "      <th>total_pymnt</th>\n",
       "      <th>total_pymnt_inv</th>\n",
       "      <th>total_rec_prncp</th>\n",
       "      <th>total_rec_int</th>\n",
       "      <th>total_rec_late_fee</th>\n",
       "      <th>recoveries</th>\n",
       "      <th>last_pymnt_d</th>\n",
       "      <th>last_pymnt_amnt</th>\n",
       "      <th>last_credit_pull_d</th>\n",
       "      <th>application_type</th>\n",
       "    </tr>\n",
       "  </thead>\n",
       "  <tbody>\n",
       "    <tr>\n",
       "      <th>0</th>\n",
       "      <td>1077501</td>\n",
       "      <td>5000</td>\n",
       "      <td>36 months</td>\n",
       "      <td>10.65</td>\n",
       "      <td>162.87</td>\n",
       "      <td>B</td>\n",
       "      <td>B2</td>\n",
       "      <td>NaN</td>\n",
       "      <td>10+ years</td>\n",
       "      <td>RENT</td>\n",
       "      <td>...</td>\n",
       "      <td>5861.071414</td>\n",
       "      <td>5831.78</td>\n",
       "      <td>5000.00</td>\n",
       "      <td>861.07</td>\n",
       "      <td>0.00</td>\n",
       "      <td>0.00</td>\n",
       "      <td>15-Jan</td>\n",
       "      <td>171.62</td>\n",
       "      <td>16-Jan</td>\n",
       "      <td>INDIVIDUAL</td>\n",
       "    </tr>\n",
       "    <tr>\n",
       "      <th>1</th>\n",
       "      <td>1077430</td>\n",
       "      <td>2500</td>\n",
       "      <td>60 months</td>\n",
       "      <td>15.27</td>\n",
       "      <td>59.83</td>\n",
       "      <td>C</td>\n",
       "      <td>C4</td>\n",
       "      <td>Ryder</td>\n",
       "      <td>&lt; 1 year</td>\n",
       "      <td>RENT</td>\n",
       "      <td>...</td>\n",
       "      <td>1008.710000</td>\n",
       "      <td>1008.71</td>\n",
       "      <td>456.46</td>\n",
       "      <td>435.17</td>\n",
       "      <td>0.00</td>\n",
       "      <td>117.08</td>\n",
       "      <td>13-Apr</td>\n",
       "      <td>119.66</td>\n",
       "      <td>13-Sep</td>\n",
       "      <td>INDIVIDUAL</td>\n",
       "    </tr>\n",
       "    <tr>\n",
       "      <th>2</th>\n",
       "      <td>1077175</td>\n",
       "      <td>2400</td>\n",
       "      <td>36 months</td>\n",
       "      <td>15.96</td>\n",
       "      <td>84.33</td>\n",
       "      <td>C</td>\n",
       "      <td>C5</td>\n",
       "      <td>NaN</td>\n",
       "      <td>10+ years</td>\n",
       "      <td>RENT</td>\n",
       "      <td>...</td>\n",
       "      <td>3003.653644</td>\n",
       "      <td>3003.65</td>\n",
       "      <td>2400.00</td>\n",
       "      <td>603.65</td>\n",
       "      <td>0.00</td>\n",
       "      <td>0.00</td>\n",
       "      <td>14-Jun</td>\n",
       "      <td>649.91</td>\n",
       "      <td>16-Jan</td>\n",
       "      <td>INDIVIDUAL</td>\n",
       "    </tr>\n",
       "    <tr>\n",
       "      <th>3</th>\n",
       "      <td>1076863</td>\n",
       "      <td>10000</td>\n",
       "      <td>36 months</td>\n",
       "      <td>13.49</td>\n",
       "      <td>339.31</td>\n",
       "      <td>C</td>\n",
       "      <td>C1</td>\n",
       "      <td>AIR RESOURCES BOARD</td>\n",
       "      <td>10+ years</td>\n",
       "      <td>RENT</td>\n",
       "      <td>...</td>\n",
       "      <td>12226.302210</td>\n",
       "      <td>12226.30</td>\n",
       "      <td>10000.00</td>\n",
       "      <td>2209.33</td>\n",
       "      <td>16.97</td>\n",
       "      <td>0.00</td>\n",
       "      <td>15-Jan</td>\n",
       "      <td>357.48</td>\n",
       "      <td>15-Jan</td>\n",
       "      <td>INDIVIDUAL</td>\n",
       "    </tr>\n",
       "    <tr>\n",
       "      <th>4</th>\n",
       "      <td>1075358</td>\n",
       "      <td>3000</td>\n",
       "      <td>60 months</td>\n",
       "      <td>12.69</td>\n",
       "      <td>67.79</td>\n",
       "      <td>B</td>\n",
       "      <td>B5</td>\n",
       "      <td>University Medical Group</td>\n",
       "      <td>1 year</td>\n",
       "      <td>RENT</td>\n",
       "      <td>...</td>\n",
       "      <td>3242.170000</td>\n",
       "      <td>3242.17</td>\n",
       "      <td>2233.10</td>\n",
       "      <td>1009.07</td>\n",
       "      <td>0.00</td>\n",
       "      <td>0.00</td>\n",
       "      <td>16-Jan</td>\n",
       "      <td>67.79</td>\n",
       "      <td>16-Jan</td>\n",
       "      <td>INDIVIDUAL</td>\n",
       "    </tr>\n",
       "    <tr>\n",
       "      <th>...</th>\n",
       "      <td>...</td>\n",
       "      <td>...</td>\n",
       "      <td>...</td>\n",
       "      <td>...</td>\n",
       "      <td>...</td>\n",
       "      <td>...</td>\n",
       "      <td>...</td>\n",
       "      <td>...</td>\n",
       "      <td>...</td>\n",
       "      <td>...</td>\n",
       "      <td>...</td>\n",
       "      <td>...</td>\n",
       "      <td>...</td>\n",
       "      <td>...</td>\n",
       "      <td>...</td>\n",
       "      <td>...</td>\n",
       "      <td>...</td>\n",
       "      <td>...</td>\n",
       "      <td>...</td>\n",
       "      <td>...</td>\n",
       "      <td>...</td>\n",
       "    </tr>\n",
       "    <tr>\n",
       "      <th>994</th>\n",
       "      <td>1057818</td>\n",
       "      <td>7000</td>\n",
       "      <td>36 months</td>\n",
       "      <td>8.90</td>\n",
       "      <td>222.28</td>\n",
       "      <td>A</td>\n",
       "      <td>A5</td>\n",
       "      <td>Harvard University</td>\n",
       "      <td>5 years</td>\n",
       "      <td>OWN</td>\n",
       "      <td>...</td>\n",
       "      <td>8000.341221</td>\n",
       "      <td>8000.34</td>\n",
       "      <td>7000.00</td>\n",
       "      <td>1000.34</td>\n",
       "      <td>0.00</td>\n",
       "      <td>0.00</td>\n",
       "      <td>14-Dec</td>\n",
       "      <td>229.64</td>\n",
       "      <td>14-Dec</td>\n",
       "      <td>INDIVIDUAL</td>\n",
       "    </tr>\n",
       "    <tr>\n",
       "      <th>995</th>\n",
       "      <td>1057629</td>\n",
       "      <td>2425</td>\n",
       "      <td>36 months</td>\n",
       "      <td>15.27</td>\n",
       "      <td>84.39</td>\n",
       "      <td>C</td>\n",
       "      <td>C4</td>\n",
       "      <td>Lime Energy</td>\n",
       "      <td>3 years</td>\n",
       "      <td>OWN</td>\n",
       "      <td>...</td>\n",
       "      <td>3052.790000</td>\n",
       "      <td>3052.79</td>\n",
       "      <td>2424.99</td>\n",
       "      <td>612.80</td>\n",
       "      <td>15.00</td>\n",
       "      <td>0.00</td>\n",
       "      <td>15-Jan</td>\n",
       "      <td>16.06</td>\n",
       "      <td>15-Jul</td>\n",
       "      <td>INDIVIDUAL</td>\n",
       "    </tr>\n",
       "    <tr>\n",
       "      <th>996</th>\n",
       "      <td>1057621</td>\n",
       "      <td>6950</td>\n",
       "      <td>36 months</td>\n",
       "      <td>9.91</td>\n",
       "      <td>223.97</td>\n",
       "      <td>B</td>\n",
       "      <td>B1</td>\n",
       "      <td>Real Mex Foods</td>\n",
       "      <td>2 years</td>\n",
       "      <td>RENT</td>\n",
       "      <td>...</td>\n",
       "      <td>7349.480000</td>\n",
       "      <td>7349.48</td>\n",
       "      <td>6950.01</td>\n",
       "      <td>399.47</td>\n",
       "      <td>0.00</td>\n",
       "      <td>0.00</td>\n",
       "      <td>12-Sep</td>\n",
       "      <td>1560.92</td>\n",
       "      <td>14-Apr</td>\n",
       "      <td>INDIVIDUAL</td>\n",
       "    </tr>\n",
       "    <tr>\n",
       "      <th>997</th>\n",
       "      <td>1057787</td>\n",
       "      <td>12375</td>\n",
       "      <td>36 months</td>\n",
       "      <td>9.91</td>\n",
       "      <td>398.79</td>\n",
       "      <td>B</td>\n",
       "      <td>B1</td>\n",
       "      <td>JP Morgan Chase</td>\n",
       "      <td>10+ years</td>\n",
       "      <td>OWN</td>\n",
       "      <td>...</td>\n",
       "      <td>13433.960000</td>\n",
       "      <td>13399.63</td>\n",
       "      <td>12375.01</td>\n",
       "      <td>1058.95</td>\n",
       "      <td>0.00</td>\n",
       "      <td>0.00</td>\n",
       "      <td>12-Dec</td>\n",
       "      <td>9056.48</td>\n",
       "      <td>16-Jan</td>\n",
       "      <td>INDIVIDUAL</td>\n",
       "    </tr>\n",
       "    <tr>\n",
       "      <th>998</th>\n",
       "      <td>1057770</td>\n",
       "      <td>35000</td>\n",
       "      <td>60 months</td>\n",
       "      <td>20.30</td>\n",
       "      <td>933.14</td>\n",
       "      <td>E</td>\n",
       "      <td>E5</td>\n",
       "      <td>Regional Transportation District</td>\n",
       "      <td>10+ years</td>\n",
       "      <td>MORTGAGE</td>\n",
       "      <td>...</td>\n",
       "      <td>44764.720000</td>\n",
       "      <td>42066.82</td>\n",
       "      <td>24930.60</td>\n",
       "      <td>19834.12</td>\n",
       "      <td>0.00</td>\n",
       "      <td>0.00</td>\n",
       "      <td>16-Jan</td>\n",
       "      <td>933.14</td>\n",
       "      <td>16-Jan</td>\n",
       "      <td>INDIVIDUAL</td>\n",
       "    </tr>\n",
       "  </tbody>\n",
       "</table>\n",
       "<p>999 rows × 37 columns</p>\n",
       "</div>"
      ],
      "text/plain": [
       "          id    CLI        term  int_rate  installment grade sub_grade  \\\n",
       "0    1077501   5000   36 months     10.65       162.87     B        B2   \n",
       "1    1077430   2500   60 months     15.27        59.83     C        C4   \n",
       "2    1077175   2400   36 months     15.96        84.33     C        C5   \n",
       "3    1076863  10000   36 months     13.49       339.31     C        C1   \n",
       "4    1075358   3000   60 months     12.69        67.79     B        B5   \n",
       "..       ...    ...         ...       ...          ...   ...       ...   \n",
       "994  1057818   7000   36 months      8.90       222.28     A        A5   \n",
       "995  1057629   2425   36 months     15.27        84.39     C        C4   \n",
       "996  1057621   6950   36 months      9.91       223.97     B        B1   \n",
       "997  1057787  12375   36 months      9.91       398.79     B        B1   \n",
       "998  1057770  35000   60 months     20.30       933.14     E        E5   \n",
       "\n",
       "                            emp_title emp_length home_ownership  ...  \\\n",
       "0                                 NaN  10+ years           RENT  ...   \n",
       "1                               Ryder   < 1 year           RENT  ...   \n",
       "2                                 NaN  10+ years           RENT  ...   \n",
       "3                 AIR RESOURCES BOARD  10+ years           RENT  ...   \n",
       "4            University Medical Group     1 year           RENT  ...   \n",
       "..                                ...        ...            ...  ...   \n",
       "994                Harvard University    5 years            OWN  ...   \n",
       "995                       Lime Energy    3 years            OWN  ...   \n",
       "996                    Real Mex Foods    2 years           RENT  ...   \n",
       "997                   JP Morgan Chase  10+ years            OWN  ...   \n",
       "998  Regional Transportation District  10+ years       MORTGAGE  ...   \n",
       "\n",
       "      total_pymnt total_pymnt_inv total_rec_prncp total_rec_int  \\\n",
       "0     5861.071414         5831.78         5000.00        861.07   \n",
       "1     1008.710000         1008.71          456.46        435.17   \n",
       "2     3003.653644         3003.65         2400.00        603.65   \n",
       "3    12226.302210        12226.30        10000.00       2209.33   \n",
       "4     3242.170000         3242.17         2233.10       1009.07   \n",
       "..            ...             ...             ...           ...   \n",
       "994   8000.341221         8000.34         7000.00       1000.34   \n",
       "995   3052.790000         3052.79         2424.99        612.80   \n",
       "996   7349.480000         7349.48         6950.01        399.47   \n",
       "997  13433.960000        13399.63        12375.01       1058.95   \n",
       "998  44764.720000        42066.82        24930.60      19834.12   \n",
       "\n",
       "    total_rec_late_fee recoveries last_pymnt_d last_pymnt_amnt  \\\n",
       "0                 0.00       0.00       15-Jan          171.62   \n",
       "1                 0.00     117.08       13-Apr          119.66   \n",
       "2                 0.00       0.00       14-Jun          649.91   \n",
       "3                16.97       0.00       15-Jan          357.48   \n",
       "4                 0.00       0.00       16-Jan           67.79   \n",
       "..                 ...        ...          ...             ...   \n",
       "994               0.00       0.00       14-Dec          229.64   \n",
       "995              15.00       0.00       15-Jan           16.06   \n",
       "996               0.00       0.00       12-Sep         1560.92   \n",
       "997               0.00       0.00       12-Dec         9056.48   \n",
       "998               0.00       0.00       16-Jan          933.14   \n",
       "\n",
       "    last_credit_pull_d application_type  \n",
       "0               16-Jan       INDIVIDUAL  \n",
       "1               13-Sep       INDIVIDUAL  \n",
       "2               16-Jan       INDIVIDUAL  \n",
       "3               15-Jan       INDIVIDUAL  \n",
       "4               16-Jan       INDIVIDUAL  \n",
       "..                 ...              ...  \n",
       "994             14-Dec       INDIVIDUAL  \n",
       "995             15-Jul       INDIVIDUAL  \n",
       "996             14-Apr       INDIVIDUAL  \n",
       "997             16-Jan       INDIVIDUAL  \n",
       "998             16-Jan       INDIVIDUAL  \n",
       "\n",
       "[999 rows x 37 columns]"
      ]
     },
     "execution_count": 11,
     "metadata": {},
     "output_type": "execute_result"
    }
   ],
   "source": [
    "df.drop(['collections_12_mths_ex_med','policy_code','acc_now_delinq','inq_last_6mths','member_id','delinq_2yrs','collection_recovery_fee','revol_util', 'dti'], axis=1)"
   ]
  },
  {
   "cell_type": "code",
   "execution_count": 12,
   "metadata": {},
   "outputs": [
    {
     "name": "stdout",
     "output_type": "stream",
     "text": [
      "<class 'pandas.core.frame.DataFrame'>\n",
      "RangeIndex: 999 entries, 0 to 998\n",
      "Data columns (total 46 columns):\n",
      " #   Column                      Non-Null Count  Dtype  \n",
      "---  ------                      --------------  -----  \n",
      " 0   id                          999 non-null    int64  \n",
      " 1   member_id                   999 non-null    int64  \n",
      " 2   CLI                         999 non-null    int64  \n",
      " 3   term                        999 non-null    object \n",
      " 4   int_rate                    999 non-null    float64\n",
      " 5   installment                 999 non-null    float64\n",
      " 6   grade                       999 non-null    object \n",
      " 7   sub_grade                   999 non-null    object \n",
      " 8   emp_title                   948 non-null    object \n",
      " 9   emp_length                  982 non-null    object \n",
      " 10  home_ownership              999 non-null    object \n",
      " 11  annual_inc                  999 non-null    float64\n",
      " 12  verification_status         999 non-null    object \n",
      " 13  loan_status                 999 non-null    object \n",
      " 14  pymnt_plan                  999 non-null    object \n",
      " 15  desc                        567 non-null    object \n",
      " 16  purpose                     999 non-null    object \n",
      " 17  title                       999 non-null    object \n",
      " 18  zip_code                    999 non-null    object \n",
      " 19  addr_state                  999 non-null    object \n",
      " 20  dti                         999 non-null    float64\n",
      " 21  delinq_2yrs                 999 non-null    int64  \n",
      " 22  earliest_cr_line            999 non-null    object \n",
      " 23  inq_last_6mths              999 non-null    int64  \n",
      " 24  open_acc                    999 non-null    int64  \n",
      " 25  pub_rec                     999 non-null    int64  \n",
      " 26  revol_bal                   999 non-null    int64  \n",
      " 27  revol_util                  999 non-null    float64\n",
      " 28  total_acc                   999 non-null    int64  \n",
      " 29  initial_list_status         999 non-null    object \n",
      " 30  out_prncp                   999 non-null    float64\n",
      " 31  out_prncp_inv               999 non-null    float64\n",
      " 32  total_pymnt                 999 non-null    float64\n",
      " 33  total_pymnt_inv             999 non-null    float64\n",
      " 34  total_rec_prncp             999 non-null    float64\n",
      " 35  total_rec_int               999 non-null    float64\n",
      " 36  total_rec_late_fee          999 non-null    float64\n",
      " 37  recoveries                  999 non-null    float64\n",
      " 38  collection_recovery_fee     999 non-null    float64\n",
      " 39  last_pymnt_d                998 non-null    object \n",
      " 40  last_pymnt_amnt             999 non-null    float64\n",
      " 41  last_credit_pull_d          999 non-null    object \n",
      " 42  collections_12_mths_ex_med  999 non-null    int64  \n",
      " 43  policy_code                 999 non-null    int64  \n",
      " 44  application_type            999 non-null    object \n",
      " 45  acc_now_delinq              999 non-null    int64  \n",
      "dtypes: float64(15), int64(12), object(19)\n",
      "memory usage: 359.1+ KB\n"
     ]
    }
   ],
   "source": [
    "df.info()"
   ]
  },
  {
   "cell_type": "code",
   "execution_count": 13,
   "metadata": {},
   "outputs": [
    {
     "data": {
      "text/plain": [
       "id                              int64\n",
       "member_id                       int64\n",
       "CLI                             int64\n",
       "term                           object\n",
       "int_rate                      float64\n",
       "installment                   float64\n",
       "grade                          object\n",
       "sub_grade                      object\n",
       "emp_title                      object\n",
       "emp_length                     object\n",
       "home_ownership                 object\n",
       "annual_inc                    float64\n",
       "verification_status            object\n",
       "loan_status                    object\n",
       "pymnt_plan                     object\n",
       "desc                           object\n",
       "purpose                        object\n",
       "title                          object\n",
       "zip_code                       object\n",
       "addr_state                     object\n",
       "dti                           float64\n",
       "delinq_2yrs                     int64\n",
       "earliest_cr_line               object\n",
       "inq_last_6mths                  int64\n",
       "open_acc                        int64\n",
       "pub_rec                         int64\n",
       "revol_bal                       int64\n",
       "revol_util                    float64\n",
       "total_acc                       int64\n",
       "initial_list_status            object\n",
       "out_prncp                     float64\n",
       "out_prncp_inv                 float64\n",
       "total_pymnt                   float64\n",
       "total_pymnt_inv               float64\n",
       "total_rec_prncp               float64\n",
       "total_rec_int                 float64\n",
       "total_rec_late_fee            float64\n",
       "recoveries                    float64\n",
       "collection_recovery_fee       float64\n",
       "last_pymnt_d                   object\n",
       "last_pymnt_amnt               float64\n",
       "last_credit_pull_d             object\n",
       "collections_12_mths_ex_med      int64\n",
       "policy_code                     int64\n",
       "application_type               object\n",
       "acc_now_delinq                  int64\n",
       "dtype: object"
      ]
     },
     "execution_count": 13,
     "metadata": {},
     "output_type": "execute_result"
    }
   ],
   "source": [
    "df.dtypes"
   ]
  },
  {
   "cell_type": "markdown",
   "metadata": {},
   "source": [
    "# Feature Engineering\n",
    "#### Preparing the proper input dataset, compatible with the machine learning algorithm requirements.## "
   ]
  },
  {
   "cell_type": "markdown",
   "metadata": {},
   "source": [
    "We made a dictionary for each object and replaced the existing values with integers."
   ]
  },
  {
   "cell_type": "code",
   "execution_count": 14,
   "metadata": {},
   "outputs": [],
   "source": [
    "df = df.replace({\"< 1 year\": 0, \"1 year\": 1, \"2 years\": 2, \"3 years\": 3, \"4 years\": 4, \"5 years\": 5, \"6 years\": 6, \"7 years\": 7, \"8 years\": 8, \"9 years\": 9, \"10+ years\": 10}, value=None, inplace=False, limit=None, regex=False, method='pad')"
   ]
  },
  {
   "cell_type": "code",
   "execution_count": 15,
   "metadata": {},
   "outputs": [
    {
     "data": {
      "text/plain": [
       "array([' 36 months', ' 60 months'], dtype=object)"
      ]
     },
     "execution_count": 15,
     "metadata": {},
     "output_type": "execute_result"
    }
   ],
   "source": [
    "df['term'].unique()"
   ]
  },
  {
   "cell_type": "code",
   "execution_count": 16,
   "metadata": {},
   "outputs": [
    {
     "data": {
      "text/plain": [
       "0"
      ]
     },
     "execution_count": 16,
     "metadata": {},
     "output_type": "execute_result"
    }
   ],
   "source": [
    "df['term'].isnull().sum()"
   ]
  },
  {
   "cell_type": "code",
   "execution_count": 17,
   "metadata": {},
   "outputs": [],
   "source": [
    "df = df.replace({\" 36 months\": 0, \" 60 months\": 1}, value=None, inplace=False, limit=None, regex=False, method='pad')"
   ]
  },
  {
   "cell_type": "code",
   "execution_count": 18,
   "metadata": {},
   "outputs": [],
   "source": [
    "#grade\n",
    "df = df.replace({\"A\":6, \"B\":5, \"C\":4, \"D\":3, \"E\":2, \"F\":1, \"G\": 0}, value=None, inplace=False, limit=None, regex=False, method='pad')\n"
   ]
  },
  {
   "cell_type": "code",
   "execution_count": 19,
   "metadata": {},
   "outputs": [
    {
     "data": {
      "text/plain": [
       "0                                   NaN\n",
       "1                                 Ryder\n",
       "2                                   NaN\n",
       "3                   AIR RESOURCES BOARD\n",
       "4              University Medical Group\n",
       "                     ...               \n",
       "994                  Harvard University\n",
       "995                         Lime Energy\n",
       "996                      Real Mex Foods\n",
       "997                     JP Morgan Chase\n",
       "998    Regional Transportation District\n",
       "Name: emp_title, Length: 999, dtype: object"
      ]
     },
     "execution_count": 19,
     "metadata": {},
     "output_type": "execute_result"
    }
   ],
   "source": [
    "df['emp_title']"
   ]
  },
  {
   "cell_type": "code",
   "execution_count": 20,
   "metadata": {},
   "outputs": [],
   "source": [
    "df = df.drop('emp_title', axis=1)"
   ]
  },
  {
   "cell_type": "code",
   "execution_count": 21,
   "metadata": {},
   "outputs": [
    {
     "data": {
      "text/plain": [
       "array(['RENT', 'OWN', 'MORTGAGE'], dtype=object)"
      ]
     },
     "execution_count": 21,
     "metadata": {},
     "output_type": "execute_result"
    }
   ],
   "source": [
    "df['home_ownership'].unique()"
   ]
  },
  {
   "cell_type": "code",
   "execution_count": 22,
   "metadata": {},
   "outputs": [],
   "source": [
    "df = df.replace({'RENT': 0, 'OWN': 1, 'MORTGAGE': 2}, value=None, inplace=False, limit=None, regex=False, method='pad')"
   ]
  },
  {
   "cell_type": "code",
   "execution_count": 23,
   "metadata": {},
   "outputs": [
    {
     "data": {
      "text/plain": [
       "array(['Verified', 'Source Verified', 'Not Verified'], dtype=object)"
      ]
     },
     "execution_count": 23,
     "metadata": {},
     "output_type": "execute_result"
    }
   ],
   "source": [
    "df['verification_status'].unique()"
   ]
  },
  {
   "cell_type": "code",
   "execution_count": 24,
   "metadata": {},
   "outputs": [],
   "source": [
    "df = df.replace({'Verified': 0, 'Source Verified': 1, 'Not Verified': 2}, value=None, inplace=False, limit=None, regex=False, method='pad')"
   ]
  },
  {
   "cell_type": "code",
   "execution_count": 25,
   "metadata": {},
   "outputs": [
    {
     "data": {
      "text/plain": [
       "array(['Fully Paid', 'Charged Off', 'Current', 'Default',\n",
       "       'Late (31-120 days)'], dtype=object)"
      ]
     },
     "execution_count": 25,
     "metadata": {},
     "output_type": "execute_result"
    }
   ],
   "source": [
    "df['loan_status'].unique()"
   ]
  },
  {
   "cell_type": "code",
   "execution_count": 26,
   "metadata": {},
   "outputs": [],
   "source": [
    "df = df.replace({'Fully Paid': 0, 'Current': 1, 'Late (31-120 days)': 2, 'Default': 3, 'Charged Off':4}, value=None, inplace=False, limit=None, regex=False, method='pad')"
   ]
  },
  {
   "cell_type": "code",
   "execution_count": 27,
   "metadata": {},
   "outputs": [
    {
     "data": {
      "text/plain": [
       "0      n\n",
       "1      n\n",
       "2      n\n",
       "3      n\n",
       "4      n\n",
       "      ..\n",
       "994    n\n",
       "995    n\n",
       "996    n\n",
       "997    n\n",
       "998    n\n",
       "Name: pymnt_plan, Length: 999, dtype: object"
      ]
     },
     "execution_count": 27,
     "metadata": {},
     "output_type": "execute_result"
    }
   ],
   "source": [
    "df['pymnt_plan']"
   ]
  },
  {
   "cell_type": "markdown",
   "metadata": {},
   "source": [
    "Dropped \"pymnt_plan\" because its outputs are not helpful"
   ]
  },
  {
   "cell_type": "code",
   "execution_count": 28,
   "metadata": {},
   "outputs": [],
   "source": [
    "df = df.drop(['pymnt_plan','desc'],axis=1)"
   ]
  },
  {
   "cell_type": "code",
   "execution_count": 29,
   "metadata": {},
   "outputs": [
    {
     "data": {
      "text/plain": [
       "array(['B2', 'C4', 'C5', 'C1', 'B5', 'A4', 'E1', 'F2', 'C3', 'B1', 'D1',\n",
       "       'A1', 'B3', 'B4', 'C2', 'D2', 'A3', 'A5', 'D5', 'A2', 'E4', 'D3',\n",
       "       'D4', 'F3', 'E3', 'F4', 'F1', 'E5', 'G4', 'E2', 'G3', 'G2', 'G1',\n",
       "       'F5'], dtype=object)"
      ]
     },
     "execution_count": 29,
     "metadata": {},
     "output_type": "execute_result"
    }
   ],
   "source": [
    "df['sub_grade'].unique()"
   ]
  },
  {
   "cell_type": "code",
   "execution_count": 30,
   "metadata": {},
   "outputs": [],
   "source": [
    "#subgrade\n",
    "df = df.replace({\"A1\":34, \"A2\":33, \"A3\":32, \"A4\":31, \"A5\":30, \"B1\":29, \"B2\":28, \"B3\":27, \"B4\":26, \"B5\":25, \"C1\":24, \"C2\":23, \"C3\":22, \"C4\":21, \"C5\":20, \"D1\":19, \"D2\":18, \"D3\":17, \"D4\":16, \"D5\":15, \"E1\":14, \"E2\":13, \"E3\":12, \"E4\":11, \"E5\":10, \"F1\":9, \"F2\":8, \"F3\":7, \"F4\":6, \"F5\":5, \"G1\":4, \"G2\":3, \"G3\":2, \"G4\":1}, value=None, inplace=False, limit=None, regex=False, method='pad')\n"
   ]
  },
  {
   "cell_type": "code",
   "execution_count": 31,
   "metadata": {},
   "outputs": [
    {
     "data": {
      "text/plain": [
       "array(['credit_card', 'car', 'small_business', 'other', 'wedding',\n",
       "       'debt_consolidation', 'home_improvement', 'major_purchase',\n",
       "       'medical', 'moving', 'vacation', 'house', 'renewable_energy'],\n",
       "      dtype=object)"
      ]
     },
     "execution_count": 31,
     "metadata": {},
     "output_type": "execute_result"
    }
   ],
   "source": [
    "df['purpose'].unique()"
   ]
  },
  {
   "cell_type": "code",
   "execution_count": 32,
   "metadata": {},
   "outputs": [],
   "source": [
    "#purpose\n",
    "df = df.replace({\"credit_card\":0,\"car\":1,\"small_business\":2,\"wedding\":3,\"debt_consolidation\":4,\"home_improvement\":5,\n",
    "                 \"major_purchase\":6,\"medical\":7,\"moving\":8,\"vacation\":9,\"house\":10,\"renewable_energy\":11,\"other\":12},\n",
    "                 value=None, inplace=False, limit=None, regex=False, method='pad')\n"
   ]
  },
  {
   "cell_type": "markdown",
   "metadata": {},
   "source": [
    "## Bar Graph - Correlation between \"purpose\" and CLI"
   ]
  },
  {
   "cell_type": "code",
   "execution_count": 33,
   "metadata": {},
   "outputs": [
    {
     "data": {
      "text/plain": [
       "<matplotlib.axes._subplots.AxesSubplot at 0x256bf723748>"
      ]
     },
     "execution_count": 33,
     "metadata": {},
     "output_type": "execute_result"
    },
    {
     "data": {
      "image/png": "[encoded data removed]",
      "text/plain": [
       "<Figure size 1296x720 with 1 Axes>"
      ]
     },
     "metadata": {},
     "output_type": "display_data"
    }
   ],
   "source": [
    "fig_dims = (18, 10)\n",
    "fig, ax = plt.subplots(figsize=fig_dims)\n",
    "\n",
    "sns.barplot(x=df['purpose'], y=df['CLI'])"
   ]
  },
  {
   "cell_type": "code",
   "execution_count": 34,
   "metadata": {},
   "outputs": [
    {
     "data": {
      "text/plain": [
       "array(['Computer', 'bike', 'real estate business', 'personel', 'Personal',\n",
       "       'My wedding loan I promise to pay back', 'Loan', 'Car Downpayment',\n",
       "       'Expand Business & Buy Debt Portfolio',\n",
       "       'Building my credit history.', 'High intrest Consolidation',\n",
       "       'Consolidation', 'freedom', 'citicard fund', 'Other Loan',\n",
       "       'Debt Consolidation Loan', 'Home', 'Holiday', 'Medical',\n",
       "       'lowerratemeanseasiertogetoutofdebt!', 'Freedom From Credit Cards',\n",
       "       'Debt Cleanup', 'Credit Card Loan', 'Debt Consolidation', 'cash',\n",
       "       'No more credit card debt!', 'consolidation', 'Other',\n",
       "       'Credit card repayment loan', 'Brown Eyes Loan',\n",
       "       'December 2011 Credit Card Loan',\n",
       "       'Moving to better job; help a veteran!',\n",
       "       'Credit Card Consolidation', 'Credit card debt',\n",
       "       'Year End Cleanup', 'debt', 'Debt-Consolidation ',\n",
       "       'Small Business Loan', 'Debt Consolidation for a better life',\n",
       "       'Debt Consolitation ', 'Credit card refinance loan',\n",
       "       'Loan 12142011', 'Car Loan', 'Credit Cards', ' Bill pay of',\n",
       "       'refinance debt', 'My End to Bad Spending Habits Plan',\n",
       "       'To pay of all debt', 'Start Up', 'blessings', 'allen',\n",
       "       'New Start', 'Small_Business Loan', 'Credit Refinance',\n",
       "       'Refinance Loan', 'Help', 'Credit Payoff 14400',\n",
       "       'Home improvement', 'CC Refi Loan', 'Credit Card Refinancing',\n",
       "       'Auto Loan', 'I pay my all credit', 'Nissan Car Loan',\n",
       "       'dental care', 'loan payoff', 'MAKE ON PAYMENT',\n",
       "       'Credit Card Refinance', 'Debit consolidation', 7,\n",
       "       'Emergency Loan', 'Bill Consolidation', 'Debit Free',\n",
       "       'Major Purchase Loan', 'Wells/Chase ReFi', 'Debt consolidation',\n",
       "       'Say goodbye to the rip-off banks', \"Coledon's Club Loan\",\n",
       "       'smaller loan', 'Consolidate', '12/2011 loan',\n",
       "       'Computer Equipment', 'payoff', 'credit loan', 'Credit Card',\n",
       "       'Consolidation Loan', 'Start Fresh 2012', 'Chase',\n",
       "       'Credit card paid off', 'creditcard payoff',\n",
       "       'Pay off credit card, refinance house', 'CONSOLIDATION',\n",
       "       'Debt consolidation loan', 'Debt Consalidation',\n",
       "       'Debt Consolidation / Lower CC Rate', 'Money', 'Financial Freedom',\n",
       "       'home improve', 'Bills', 'After Great Experience I am Back Again',\n",
       "       'Credit Cards & Laptop', 'Help me out', 'Business Loan',\n",
       "       'Debt Consolidation ', 'Relocation Assistance', 'Credit Card Debt',\n",
       "       'Credit Card Debt Consolidation', 'personal loan', 'Debt Free',\n",
       "       '5 Years to Financial Freedom', 'Roof', 'PayCC',\n",
       "       'consolidation loan', 'Presents and vocation',\n",
       "       'Debt consolodation', 'Credit Card Consolidation ',\n",
       "       'debt consolidation', 'home improvement', 'Credit Card Payoff',\n",
       "       'credit card payoff', 'High interest credit card consolidation',\n",
       "       'GET FREE OF DEBT', 'Bye Bye Credit Cards', 'Consolidation loan',\n",
       "       'zipcar', 'credit card consolidation', 'Payoff Loan',\n",
       "       'Loan to pay off Credit cards', 'GetoutofDebt',\n",
       "       'Consolidate me 2011', 'Credit Consolidation', 'Breathing Room',\n",
       "       'pertsonal loan', 'Credit Card Refi', 'consolidate',\n",
       "       'CREDIT CARD PAYOFF', 'Ring',\n",
       "       '70%Attached room,30%cc-loanconsolidation', 'Pay off debt',\n",
       "       'LC Loan', 'US Bank Full', 'debt consolidation ', 8, 'CC Debt',\n",
       "       'Consolidate Closed Credit Accounts', 'remodel',\n",
       "       'Credit card payoff ', 'Moved to California',\n",
       "       'consolihappydaytion', 'debt cosolidate',\n",
       "       'Bank of America Pay-Off Loan', 'Home Improvement', 'Boat Loan',\n",
       "       'Debt consol', 'Personnel Loan', 'credit cards',\n",
       "       'extra cash for vacation', 'Debt consolidation ',\n",
       "       'CREDIT CARD CONSOLIDATION', 'vacation loan',\n",
       "       'Paying off Credit Cards', 'Credit Card Refi 2011',\n",
       "       'CC Consolidation', 'payoff credit cards', 9, 'Business',\n",
       "       'Loan2011', 'Car loan', 'Credit card payment', 'Floor',\n",
       "       'restore classic car', 'Paydown CC Loan', 'no more bills',\n",
       "       'CC refi', 'Snowmobile Purchase', 'credit card consolidating',\n",
       "       'auto repair', 'Small Business', \"Card's\", 'Bathroom Repairs',\n",
       "       'Salt Spreader', 'debt consolidation.. ',\n",
       "       'Post College Credit Card Refinance', 'CC Payoff',\n",
       "       'personal loan.', 'debt for debt',\n",
       "       'Wiping off 6 ccards in 1 lower rate ', 'Pay off credit card',\n",
       "       'CCPayoff', 'ROLL CONSOLIDATION', 'Future', 'Titanium loan',\n",
       "       'personal', 'Credit cards payment', 'Credit Card Debt Free',\n",
       "       'Credit Card and Bill Loan', 'Smart Budgeting', 'credit debt',\n",
       "       'Patent and manufacturing.', 'Personal Loan',\n",
       "       'Credit Card refinance', 'Dept Consolidation', 'life changing',\n",
       "       'Credit Cards Payoff', 'No more credit card!', 'Get out of Debt',\n",
       "       'Pay credit cards 2011', 'Cards', 'CLEAR UP', 'Personal loan',\n",
       "       'Trip Loan', 'outofdebt', 'Credit Card REFI',\n",
       "       'Pay off high interest credit cards',\n",
       "       'Debt Consolidation - Dec 2011',\n",
       "       'Avoid CCs,Various Seasonal and Other Exp', 'loan 1',\n",
       "       'Zero Balance Project', 'The 20K Credit', 'pay credit cards',\n",
       "       'Freedom', 'Debt-down', '2011 CC Pay-Off', 'Home Improvement Loan',\n",
       "       'Home imp', 'lovely', 'Car loan and pay off my family',\n",
       "       'Consolidation ', 'Credit card payoff', 'marines', 'Stress relief',\n",
       "       'getting it together', 'Purchase', 'pay off my debt', 'refinance',\n",
       "       'save the day loan', 'credit card debt', 'NeverLate',\n",
       "       'Pay off Debt', 'CC Refinance', 'Bill Payoff', 'Card Refi',\n",
       "       'credit card loan', 'cards b gone', 'Bye-bye high interest rates!',\n",
       "       'Credit Card refinancing', 'leave mistakes behind', 'Debt Payment',\n",
       "       'Credit Refinancing', 'loan #1', 'Pay off credit cards',\n",
       "       'person to person', 'DEBT CONSOLIDATION STRATEGY', 'credit payoff',\n",
       "       'Reline pool and fix steeps', 'Famleisure', 'Debt Loan',\n",
       "       'The light', 'new start', 'Condo', 'C/C Consolidation Loan',\n",
       "       'Freedom Consolidation', 'Debt Free Forever', 'Refi', 'Personal ',\n",
       "       'CCConsolidation', 'Consolidation Facility', 'Myloan', 'loan',\n",
       "       'roof', 'Last Loan', 'My Freedom loan', 'Debt Solution',\n",
       "       'debt free', 'Short Term Loan', 'do over', 'betterrate',\n",
       "       'Pay Bills', 'MONEY TREE', 'Pay Off Debt', 'Rod Family Finance ',\n",
       "       '2012 New Beginnings', 'Debt relief ', 'Miscellaneous', 'Hot tub',\n",
       "       'Lending Club', 'Motorcycle', 'Short-Term Business Loan',\n",
       "       'my plan', 'Renovation loan', 'Bill loan', 'FREEDOM',\n",
       "       'Personal Investment Loan', 'Lower My Overall Interest Rate ',\n",
       "       'PAYOFF', 'Loan 1', 'Pay off Chase', 'unique', 'Truck repair',\n",
       "       'Fixin my apartment', 'Debt refinance', 'personnel', 'anto cc',\n",
       "       'Loan Payoff and Home Improvement', 'Home and car repair',\n",
       "       'FREEDOM debt', 'Citicard', 'payoff credit card',\n",
       "       'Pay Personal Loans', 'DEBTCON', 'debt consolidation loan',\n",
       "       'Refinance', 'DEBT PAYOFF', 'Consolidation Loan December 2011',\n",
       "       '2400', 'Debt-Paying, Wife-Helping', 'debt freedom', 'Remodel',\n",
       "       'Moving', 'Debt', 'Pay off High Interest Credit Cards',\n",
       "       'CleanUpCC', 'Excellent Payment History Borrower', 'mortgage',\n",
       "       'Creating More Space', 'My CC consolidation loan', 'refi', 'Car',\n",
       "       'auto payoff', 'Debt At One Place',\n",
       "       'Credit Card Consolodation Loan',\n",
       "       'car repair and home improvement', 'Vacation',\n",
       "       'Credit cards bills', 'Wedding planning loan',\n",
       "       'Seed money for educational foundation', 'Loan to Fix Carpet',\n",
       "       'One main loan ', 'major purchase', 'DebtConsol',\n",
       "       'Credit Card Interest Rates No More!!!', 'Refinance time',\n",
       "       'Credit Card Payment', 'REFINANCE', 'Medical ', 'Discover payoff',\n",
       "       'CC/Car', 'For My Vacation', \"Dad's care\",\n",
       "       'Medical Leave - Household Expenses', 'line of credit',\n",
       "       'Debt Consolidation Loan Needed!', 'No more debt!!!',\n",
       "       'Credit refinance', 'Major Purchase', 'End of year loan',\n",
       "       'bye bye credit cards', 'Hello', 1, 'Pay Medical Bills',\n",
       "       '36 Months to Freedom', '2012 Pay Off', 'Relief 2011',\n",
       "       'credit card pay off', 'Consolidate Credit Card Debt',\n",
       "       'Consolidate Debt', 'Amex', 'Card Refinance', 'credit_card Loan',\n",
       "       'Relief', 'PAY OFF MY CARDS!!', 'credit card refinance',\n",
       "       'music production loan', 'Buying A Modest Home + Small Business',\n",
       "       'Consolidate CCs and pay back family ',\n",
       "       'A fresh new year with less CC debts',\n",
       "       'Home Improvement/Debt Consolidation', 'DEBT CON', 'Go Steelers',\n",
       "       'move', '12-7-11 DEBT AND MEDICAL CONSOLIDATE', 'pay credit card',\n",
       "       'safety net', 'Get out of debt loan',\n",
       "       'Consolidating Debt from Home Repair', 'Pay of Credit Card Debt',\n",
       "       'improvement', 'Debt Payoff', 'used car', 'my dad',\n",
       "       'Credi Card Payment', 'no postage necessary', 'Credit Cards Suck',\n",
       "       'CC Assist', 'Wedding loan', 'Investment ', 'Travel',\n",
       "       'out of debt loan', 'CC Pay Off', '1941 Chevrolet 3100', 'Cycle',\n",
       "       'pay off debt loan', 'Consolidating Big Bank Debt',\n",
       "       ' Debt Consolidation for recent Grad.', 'Wedding bills',\n",
       "       'PREVAILING', 'Credit Cards Consolidation Loan',\n",
       "       'Pay High Interest CC', 'Refinancing', 'Credit card',\n",
       "       'credit loan consolidation', 'free from debt',\n",
       "       'Medical Bill Nightmare', 'Pay off Credit Cards', 'Salon Loan',\n",
       "       'Home Improvements', 'Alabama Consolidation Loan',\n",
       "       'Return Customer - 1st Loan Paid In Full',\n",
       "       'credit card refinance loan', 'No more credit cards',\n",
       "       'credit balance', 'Payment', 'Vacation Loan', 'My loan',\n",
       "       'Credit card payment loans ', 'Card Consolidation', 'Main',\n",
       "       'Consolidated', 'CC Consolidate - Home Improve',\n",
       "       'House Down Payment', 'comsolidate credit',\n",
       "       'Killing those big bank cards', 'Trading business',\n",
       "       'Personal Business Loan', 'DEBT  CONSOLIDATION', 'Wedding Loan',\n",
       "       'Credit card re-fi', 'Business loan ', 'Credit Card Payoff Loan',\n",
       "       'add limousine to company', '2011 loan', 'credit card payment',\n",
       "       'Credit Card Consolidation Loan', 'smart', 'Loan #1', 'Wedding',\n",
       "       'pay off credit bills', 'Unexpected Expenses',\n",
       "       'Helping out my wallet', 'Personal Growth', 'Debt reducer',\n",
       "       'Payoff my Credit Card Debit in 36 Months', 'Credit card help',\n",
       "       'Debt free ', 'Capitol One Refinance', 'The Blessing Loan',\n",
       "       'Bill Pay off', 'House Loan', 'Extra credit loan', '12-Apr',\n",
       "       'Credit Card Balance Payoff', 'Saab 9-3 loan', 'deep breath',\n",
       "       'life saver', 'Help me get ahead', 'Credit card Refi',\n",
       "       'Fresh Start', 'out of debt', 'cards pay off', 'pay cards',\n",
       "       'Breathing room', 'Pay off Credit cards loan',\n",
       "       'debit consolidation ', 'pa off bills', 'Erase my debt!',\n",
       "       'New Business', 'HOME IMPROVEMENT', 'DEBT CONSOLIDATION ',\n",
       "       'Installment Loan', 'Citi Card', 'Dedt Consolidation ',\n",
       "       'Unexpected Expense', 'myroad2freedom', 'free at last', 'finish',\n",
       "       'The last and only one', 'debt relief', 'Freddom from credit card',\n",
       "       'christmas', 'High interest credit card',\n",
       "       'Advertising for growing business',\n",
       "       'Stop paying interest to Chase', 'Clean Up',\n",
       "       '2011 Debt Consolidation', 'Pay Off Credit Card', 'Freedom Loan',\n",
       "       'Bill Consolidation -Debt free by 2015!!!',\n",
       "       'hardwood flooring business', 'DebtFix', 'Legal assistance',\n",
       "       'pay off', 'pay off credit cards.', 'My Loan', 'Get Rid of Debt',\n",
       "       'paybackcards', 'goal', 'debt consoladation', 'Consol',\n",
       "       'Personal Consid', 'it is really a good loan rate', 'Pay off',\n",
       "       'My personal loan', 'freedom loan', 'payoff loan',\n",
       "       'One Bill A Month', 'one monthly payment', 'My personl loan',\n",
       "       'Home Improvement - New Pipes', 'Credit Relief',\n",
       "       'Credit Card Pay Off', 'LendingClubLoan', 'Pay it off',\n",
       "       'debt restructuring', 'No more debt', 'December relief',\n",
       "       'farm loan', 'godsent', 'Credit Card Paydown', 'help',\n",
       "       '2011 Consolidate Loan', 'CCdebt', 'Improvements', 'Loan Payments',\n",
       "       'Moving expenses on high interest cc', 'Repay Cards',\n",
       "       'Home improvement loan', 'consolidate bills',\n",
       "       'property taxes and debt consolidation', 'my loan',\n",
       "       'Credit Card Refi Loan', 'Redemption', 'Freedom Day 2014',\n",
       "       'top up', 'Relief Refi'], dtype=object)"
      ]
     },
     "execution_count": 34,
     "metadata": {},
     "output_type": "execute_result"
    }
   ],
   "source": [
    "df['title'].unique()"
   ]
  },
  {
   "cell_type": "code",
   "execution_count": 35,
   "metadata": {},
   "outputs": [
    {
     "data": {
      "text/plain": [
       "array(['Jan-85', 'Apr-99', '1-Nov', 'Feb-96', 'Jan-96', '4-Nov', '5-Jul',\n",
       "       '7-Jan', '4-Apr', '4-Sep', 'Jan-98', 'Oct-89', '3-Jul', 'May-91',\n",
       "       '7-Sep', 'Oct-98', 'Aug-93', '3-Oct', '1-Jan', 'Nov-97', 'Feb-83',\n",
       "       'Jul-85', '3-Apr', '1-Jun', '2-Feb', 'Aug-84', '6-Nov', 'Dec-87',\n",
       "       'Nov-81', 'Feb-97', '5-Apr', '7-Oct', 'Dec-00', '7-Apr', '1-Dec',\n",
       "       '3-Jan', 'Mar-94', 'Sep-98', '4-Jun', 'Nov-95', 'Jul-99', 'Jun-95',\n",
       "       'Sep-92', '2-Jan', 'Apr-92', '6-Oct', 'May-00', 'Dec-98', '4-Dec',\n",
       "       'Oct-00', '2-May', '6-May', '2-Jul', '6-Jul', 'May-97', '5-Oct',\n",
       "       'Apr-95', '2-Oct', 'Jan-00', 'Apr-00', 'Dec-94', '5-Sep', 'Dec-84',\n",
       "       'Dec-99', '3-Nov', 'Jun-89', '3-Jun', 'Oct-96', '3-May', '2-Jun',\n",
       "       '7-Jun', 'Dec-96', 'Feb-84', '2-Sep', 'Jan-86', 'May-98', 'Jan-97',\n",
       "       '5-Jun', 'Feb-90', '4-Mar', 'Jul-95', 'Aug-94', 'Jun-92', 'Mar-97',\n",
       "       '6-Apr', 'Apr-90', 'Aug-99', 'Sep-00', '1-Feb', 'Dec-88', 'Feb-99',\n",
       "       'Dec-91', 'Aug-00', '4-Oct', '4-Aug', '5-Feb', '5-Nov', 'Nov-00',\n",
       "       '7-May', 'Jan-91', 'Jun-00', '6-Aug', '2-Dec', 'Jun-93', '6-Jun',\n",
       "       '4-Feb', 'Dec-90', 'Mar-00', 'Feb-95', '1-Jul', '2-Apr', '6-Sep',\n",
       "       'May-99', 'Aug-98', '5-Dec', '4-May', '1-Oct', 'Jun-83', 'Mar-86',\n",
       "       'Apr-80', '4-Jul', '8-Jul', 'May-96', '4-Jan', '2-Nov', '2-Aug',\n",
       "       '1-Aug', 'Mar-91', 'Sep-89', 'Sep-94', '3-Sep', 'Sep-99', '5-Aug',\n",
       "       'Dec-86', 'Nov-98', '6-Feb', 'May-94', '7-Nov', 'Feb-93', 'Nov-91',\n",
       "       '5-May', 'Dec-73', '1-May', 'Mar-90', 'Mar-96', 'Oct-79', 'Jun-81',\n",
       "       '1-Mar', '1-Apr', 'Jun-99', 'Nov-93', '6-Jan', 'Dec-97', 'Nov-94',\n",
       "       'Jul-97', 'Oct-91', 'Jun-94', '6-Mar', 'Sep-96', 'Apr-91',\n",
       "       'Jul-93', 'Jan-95', 'Sep-87', '3-Mar', 'Oct-99', 'Jul-96', '3-Dec',\n",
       "       'Aug-88', 'Jan-92', 'Mar-98', '7-Feb', 'Aug-82', 'Mar-95',\n",
       "       'Dec-92', 'Jul-98', 'Jul-89', 'May-90', 'Jul-94', '1-Sep',\n",
       "       'Mar-84', '3-Aug', 'Nov-99', '7-Mar', '8-Mar', 'Apr-94', '5-Jan',\n",
       "       'Jul-86', 'Aug-90', 'May-92', 'Jul-00', 'Mar-88', 'May-83',\n",
       "       'Apr-93', 'Jul-78', 'Feb-00', 'Dec-81', 'Mar-92', 'Jan-81',\n",
       "       'Sep-90', 'Jun-98', 'May-93', 'Nov-96', '2-Mar', 'Jan-88',\n",
       "       'Aug-97', 'Aug-87', '8-Aug', 'Oct-94', 'Oct-86', 'Feb-94',\n",
       "       'Jun-96', 'Feb-98', '8-Nov', 'Apr-98', 'Jul-79', 'Jan-93',\n",
       "       'May-87', 'Jul-71', '7-Aug', 'Jun-97', 'Mar-80', '6-Dec', '7-Jul',\n",
       "       'Oct-95', 'Jul-91', 'Jul-92', 'Dec-72', 'Dec-93', 'Jan-99',\n",
       "       '3-Feb', 'Apr-97', 'Dec-95', 'Apr-96', 'Jul-90', 'Mar-70',\n",
       "       'Nov-84', 'Apr-84', 'Jul-84', 'Aug-95', 'Mar-99', 'Sep-88',\n",
       "       'Mar-89', 'Mar-87', 'Oct-97', 'Dec-80', 'Jan-94', 'Sep-95',\n",
       "       '5-Mar', 'Jan-89', 'Feb-92', 'Jan-90', 'Nov-90', 'Mar-69',\n",
       "       'Jun-75', 'Mar-85', '7-Dec', 'Oct-93', 'Dec-89', 'Sep-80',\n",
       "       'Jun-88', 'May-78', 'Apr-73', 'Aug-89', 'Oct-90', 'Sep-91',\n",
       "       'Feb-82', 'Feb-87', 'Nov-85'], dtype=object)"
      ]
     },
     "execution_count": 35,
     "metadata": {},
     "output_type": "execute_result"
    }
   ],
   "source": [
    "df['earliest_cr_line'].unique()"
   ]
  },
  {
   "cell_type": "code",
   "execution_count": 36,
   "metadata": {},
   "outputs": [
    {
     "data": {
      "text/plain": [
       "array(['f'], dtype=object)"
      ]
     },
     "execution_count": 36,
     "metadata": {},
     "output_type": "execute_result"
    }
   ],
   "source": [
    "df['initial_list_status'].unique()"
   ]
  },
  {
   "cell_type": "code",
   "execution_count": 37,
   "metadata": {},
   "outputs": [
    {
     "data": {
      "text/plain": [
       "array(['15-Jan', '13-Apr', '14-Jun', '16-Jan', '12-Apr', '12-Nov',\n",
       "       '13-Jun', '13-Sep', '12-Jul', '13-Oct', '13-May', '15-Feb',\n",
       "       '15-Aug', '12-Oct', '12-Sep', nan, '12-Dec', '14-Dec', '13-Aug',\n",
       "       '13-Nov', '14-Jan', '14-Apr', '14-Aug', '14-Oct', '12-Aug',\n",
       "       '14-Jul', '13-Jul', '15-Apr', '14-Feb', '14-Sep', '12-Jun',\n",
       "       '13-Feb', '13-Mar', '14-May', '15-Mar', '13-Jan', '13-Dec',\n",
       "       '12-Feb', '14-Mar', '15-Sep', '15-Nov', '15-Dec', '12-Jan',\n",
       "       '15-Oct', '14-Nov', '12-Mar', '12-May', '15-Jun', '15-May',\n",
       "       '15-Jul'], dtype=object)"
      ]
     },
     "execution_count": 37,
     "metadata": {},
     "output_type": "execute_result"
    }
   ],
   "source": [
    "df['last_pymnt_d'].unique()"
   ]
  },
  {
   "cell_type": "code",
   "execution_count": 38,
   "metadata": {},
   "outputs": [
    {
     "data": {
      "text/plain": [
       "array(['16-Jan', '13-Sep', '15-Jan', '15-Sep', '14-Dec', '12-Aug',\n",
       "       '13-Mar', '15-Dec', '13-Aug', '12-Nov', '14-Mar', '15-Apr',\n",
       "       '14-May', '15-Jul', '12-Jul', '12-Sep', '13-May', '15-Oct',\n",
       "       '12-Jun', '15-Mar', '12-Dec', '14-Jul', '14-Sep', '14-Feb',\n",
       "       '15-Jun', '13-Oct', '14-Apr', '14-Oct', '13-Feb', '15-Nov',\n",
       "       '12-Oct', '13-Nov', '14-Nov', '12-Feb', '12-Apr', '15-Aug',\n",
       "       '14-Jun', '12-Jan', '14-Aug', '13-Jun', '13-Dec', '12-May',\n",
       "       '14-Jan', '13-Jul', '13-Apr', '15-May', '15-Feb'], dtype=object)"
      ]
     },
     "execution_count": 38,
     "metadata": {},
     "output_type": "execute_result"
    }
   ],
   "source": [
    "df['last_credit_pull_d'].unique()"
   ]
  },
  {
   "cell_type": "code",
   "execution_count": 39,
   "metadata": {},
   "outputs": [
    {
     "data": {
      "text/plain": [
       "array(['INDIVIDUAL'], dtype=object)"
      ]
     },
     "execution_count": 39,
     "metadata": {},
     "output_type": "execute_result"
    }
   ],
   "source": [
    "df['application_type'].unique()"
   ]
  },
  {
   "cell_type": "markdown",
   "metadata": {},
   "source": [
    "Dropped those columns because their outputs are irrelavant to the business usecase"
   ]
  },
  {
   "cell_type": "code",
   "execution_count": 40,
   "metadata": {},
   "outputs": [],
   "source": [
    "df = df.drop(['title','earliest_cr_line','initial_list_status','last_pymnt_d','last_credit_pull_d','application_type','zip_code','addr_state'],axis=1)"
   ]
  },
  {
   "cell_type": "markdown",
   "metadata": {},
   "source": [
    "#### Everything's either a float or integer now"
   ]
  },
  {
   "cell_type": "code",
   "execution_count": 41,
   "metadata": {},
   "outputs": [
    {
     "data": {
      "text/plain": [
       "id                              int64\n",
       "member_id                       int64\n",
       "CLI                             int64\n",
       "term                            int64\n",
       "int_rate                      float64\n",
       "installment                   float64\n",
       "grade                           int64\n",
       "sub_grade                       int64\n",
       "emp_length                    float64\n",
       "home_ownership                  int64\n",
       "annual_inc                    float64\n",
       "verification_status             int64\n",
       "loan_status                     int64\n",
       "purpose                         int64\n",
       "dti                           float64\n",
       "delinq_2yrs                     int64\n",
       "inq_last_6mths                  int64\n",
       "open_acc                        int64\n",
       "pub_rec                         int64\n",
       "revol_bal                       int64\n",
       "revol_util                    float64\n",
       "total_acc                       int64\n",
       "out_prncp                     float64\n",
       "out_prncp_inv                 float64\n",
       "total_pymnt                   float64\n",
       "total_pymnt_inv               float64\n",
       "total_rec_prncp               float64\n",
       "total_rec_int                 float64\n",
       "total_rec_late_fee            float64\n",
       "recoveries                    float64\n",
       "collection_recovery_fee       float64\n",
       "last_pymnt_amnt               float64\n",
       "collections_12_mths_ex_med      int64\n",
       "policy_code                     int64\n",
       "acc_now_delinq                  int64\n",
       "dtype: object"
      ]
     },
     "execution_count": 41,
     "metadata": {},
     "output_type": "execute_result"
    }
   ],
   "source": [
    "df.dtypes"
   ]
  },
  {
   "cell_type": "code",
   "execution_count": 42,
   "metadata": {},
   "outputs": [
    {
     "data": {
      "text/plain": [
       "id                             0\n",
       "member_id                      0\n",
       "CLI                            0\n",
       "term                           0\n",
       "int_rate                       0\n",
       "installment                    0\n",
       "grade                          0\n",
       "sub_grade                      0\n",
       "emp_length                    17\n",
       "home_ownership                 0\n",
       "annual_inc                     0\n",
       "verification_status            0\n",
       "loan_status                    0\n",
       "purpose                        0\n",
       "dti                            0\n",
       "delinq_2yrs                    0\n",
       "inq_last_6mths                 0\n",
       "open_acc                       0\n",
       "pub_rec                        0\n",
       "revol_bal                      0\n",
       "revol_util                     0\n",
       "total_acc                      0\n",
       "out_prncp                      0\n",
       "out_prncp_inv                  0\n",
       "total_pymnt                    0\n",
       "total_pymnt_inv                0\n",
       "total_rec_prncp                0\n",
       "total_rec_int                  0\n",
       "total_rec_late_fee             0\n",
       "recoveries                     0\n",
       "collection_recovery_fee        0\n",
       "last_pymnt_amnt                0\n",
       "collections_12_mths_ex_med     0\n",
       "policy_code                    0\n",
       "acc_now_delinq                 0\n",
       "dtype: int64"
      ]
     },
     "execution_count": 42,
     "metadata": {},
     "output_type": "execute_result"
    }
   ],
   "source": [
    "df.isnull().sum()"
   ]
  },
  {
   "cell_type": "code",
   "execution_count": 43,
   "metadata": {},
   "outputs": [],
   "source": [
    "df['emp_length'] = df['emp_length'].fillna(df['emp_length'].mean())"
   ]
  },
  {
   "cell_type": "code",
   "execution_count": 44,
   "metadata": {},
   "outputs": [],
   "source": [
    "df=df.drop(['collections_12_mths_ex_med', 'policy_code','acc_now_delinq'], axis = 1)"
   ]
  },
  {
   "cell_type": "markdown",
   "metadata": {},
   "source": [
    "#### No null values"
   ]
  },
  {
   "cell_type": "code",
   "execution_count": 45,
   "metadata": {},
   "outputs": [
    {
     "data": {
      "text/plain": [
       "id                         0\n",
       "member_id                  0\n",
       "CLI                        0\n",
       "term                       0\n",
       "int_rate                   0\n",
       "installment                0\n",
       "grade                      0\n",
       "sub_grade                  0\n",
       "emp_length                 0\n",
       "home_ownership             0\n",
       "annual_inc                 0\n",
       "verification_status        0\n",
       "loan_status                0\n",
       "purpose                    0\n",
       "dti                        0\n",
       "delinq_2yrs                0\n",
       "inq_last_6mths             0\n",
       "open_acc                   0\n",
       "pub_rec                    0\n",
       "revol_bal                  0\n",
       "revol_util                 0\n",
       "total_acc                  0\n",
       "out_prncp                  0\n",
       "out_prncp_inv              0\n",
       "total_pymnt                0\n",
       "total_pymnt_inv            0\n",
       "total_rec_prncp            0\n",
       "total_rec_int              0\n",
       "total_rec_late_fee         0\n",
       "recoveries                 0\n",
       "collection_recovery_fee    0\n",
       "last_pymnt_amnt            0\n",
       "dtype: int64"
      ]
     },
     "execution_count": 45,
     "metadata": {},
     "output_type": "execute_result"
    }
   ],
   "source": [
    "df.isnull().sum()"
   ]
  },
  {
   "cell_type": "code",
   "execution_count": 46,
   "metadata": {},
   "outputs": [
    {
     "data": {
      "text/plain": [
       "CLI                        1.000000\n",
       "installment                0.953777\n",
       "total_pymnt                0.887862\n",
       "total_pymnt_inv            0.885008\n",
       "total_rec_prncp            0.831625\n",
       "total_rec_int              0.690638\n",
       "verification_status        0.464477\n",
       "annual_inc                 0.399354\n",
       "last_pymnt_amnt            0.393859\n",
       "revol_bal                  0.364922\n",
       "term                       0.338313\n",
       "out_prncp_inv              0.275282\n",
       "out_prncp                  0.275183\n",
       "sub_grade                  0.254768\n",
       "int_rate                   0.239369\n",
       "grade                      0.238684\n",
       "total_acc                  0.234801\n",
       "purpose                    0.155756\n",
       "open_acc                   0.133464\n",
       "home_ownership             0.128923\n",
       "total_rec_late_fee         0.123866\n",
       "pub_rec                    0.108388\n",
       "recoveries                 0.100024\n",
       "emp_length                 0.075580\n",
       "dti                        0.067937\n",
       "revol_util                 0.062898\n",
       "collection_recovery_fee    0.053854\n",
       "loan_status                0.048127\n",
       "delinq_2yrs                0.040099\n",
       "id                         0.030180\n",
       "member_id                  0.028398\n",
       "inq_last_6mths             0.001926\n",
       "Name: CLI, dtype: float64"
      ]
     },
     "execution_count": 46,
     "metadata": {},
     "output_type": "execute_result"
    }
   ],
   "source": [
    "df2 =df.corr()['CLI']\n",
    "df2 = df2.apply(abs)\n",
    "df2.sort_values(ascending=False)"
   ]
  },
  {
   "cell_type": "markdown",
   "metadata": {},
   "source": [
    "#### Dropped columns that have a low correlation with CLI"
   ]
  },
  {
   "cell_type": "code",
   "execution_count": 47,
   "metadata": {},
   "outputs": [],
   "source": [
    "df=df.drop(['emp_length', 'dti','revol_util','collection_recovery_fee', 'loan_status', 'delinq_2yrs', 'id', 'member_id', 'inq_last_6mths'], axis = 1)"
   ]
  },
  {
   "cell_type": "markdown",
   "metadata": {},
   "source": [
    "#### Very clean dataset, ready to be used in machine learning models"
   ]
  },
  {
   "cell_type": "code",
   "execution_count": 48,
   "metadata": {},
   "outputs": [
    {
     "data": {
      "text/plain": [
       "CLI                    1.000000\n",
       "installment            0.953777\n",
       "total_pymnt            0.887862\n",
       "total_pymnt_inv        0.885008\n",
       "total_rec_prncp        0.831625\n",
       "total_rec_int          0.690638\n",
       "verification_status    0.464477\n",
       "annual_inc             0.399354\n",
       "last_pymnt_amnt        0.393859\n",
       "revol_bal              0.364922\n",
       "term                   0.338313\n",
       "out_prncp_inv          0.275282\n",
       "out_prncp              0.275183\n",
       "sub_grade              0.254768\n",
       "int_rate               0.239369\n",
       "grade                  0.238684\n",
       "total_acc              0.234801\n",
       "purpose                0.155756\n",
       "open_acc               0.133464\n",
       "home_ownership         0.128923\n",
       "total_rec_late_fee     0.123866\n",
       "pub_rec                0.108388\n",
       "recoveries             0.100024\n",
       "Name: CLI, dtype: float64"
      ]
     },
     "execution_count": 48,
     "metadata": {},
     "output_type": "execute_result"
    }
   ],
   "source": [
    "df3 =df.corr()['CLI']\n",
    "df3 = df3.apply(abs)\n",
    "df3.sort_values(ascending=False)"
   ]
  },
  {
   "cell_type": "markdown",
   "metadata": {},
   "source": [
    "# Preparing for ML"
   ]
  },
  {
   "cell_type": "markdown",
   "metadata": {},
   "source": [
    "Import sklearn models"
   ]
  },
  {
   "cell_type": "code",
   "execution_count": 49,
   "metadata": {},
   "outputs": [
    {
     "data": {
      "text/plain": [
       "((699, 22), (300, 22), (699,), (300,))"
      ]
     },
     "execution_count": 49,
     "metadata": {},
     "output_type": "execute_result"
    }
   ],
   "source": [
    "from sklearn.model_selection import train_test_split #for split the data\n",
    "from sklearn.metrics import accuracy_score  #for accuracy_score\n",
    "from sklearn.model_selection import KFold #for K-fold cross validation\n",
    "from sklearn.model_selection import cross_val_score #score evaluation\n",
    "from sklearn.model_selection import cross_val_predict #prediction\n",
    "from sklearn.model_selection import GridSearchCV # for Hyper parameter tuning\n",
    "from sklearn.metrics import confusion_matrix #for confusion matrix\n",
    "from sklearn import metrics\n",
    "\n",
    "\n",
    "\n",
    "all_features = df.drop('CLI', axis=1)\n",
    "Targeted_feature = df['CLI']\n",
    "\n",
    "\n",
    "X_train,X_test,y_train,y_test = train_test_split(all_features, Targeted_feature, test_size=0.3, random_state=42)\n",
    "X_train.shape, X_test.shape,y_train.shape,y_test.shape"
   ]
  },
  {
   "cell_type": "markdown",
   "metadata": {},
   "source": [
    "### Using Linear Regression Algorithem"
   ]
  },
  {
   "cell_type": "code",
   "execution_count": 50,
   "metadata": {},
   "outputs": [
    {
     "data": {
      "text/plain": [
       "LinearRegression(copy_X=True, fit_intercept=True, n_jobs=None, normalize=False)"
      ]
     },
     "execution_count": 50,
     "metadata": {},
     "output_type": "execute_result"
    }
   ],
   "source": [
    "from sklearn.linear_model import LinearRegression\n",
    "\n",
    "linreg_test = LinearRegression()\n",
    "linreg_test.fit(X_train, y_train)"
   ]
  },
  {
   "cell_type": "markdown",
   "metadata": {},
   "source": [
    "#### Mean Absolute Error & Mean Squared Error"
   ]
  },
  {
   "cell_type": "code",
   "execution_count": 51,
   "metadata": {},
   "outputs": [
    {
     "name": "stdout",
     "output_type": "stream",
     "text": [
      "MAE: 490.6164941770856\n",
      "MSE: 541790.3559488349\n",
      "R2: 0.9872317282188564\n"
     ]
    }
   ],
   "source": [
    "y_pred_lin_test = linreg_test.predict(X_test)\n",
    "\n",
    "from sklearn.metrics import mean_absolute_error\n",
    "\n",
    "print('MAE: '+str(mean_absolute_error(y_test, y_pred_lin_test)))\n",
    "\n",
    "from sklearn.metrics import mean_squared_error\n",
    "\n",
    "print('MSE: '+str(mean_squared_error(y_test, y_pred_lin_test)))\n",
    "\n",
    "from sklearn.metrics import r2_score\n",
    "\n",
    "print('R2: '+str(r2_score(y_test, y_pred_lin_test)))"
   ]
  },
  {
   "cell_type": "code",
   "execution_count": 52,
   "metadata": {},
   "outputs": [
    {
     "data": {
      "image/png": "[encoded data removed]",
      "text/plain": [
       "<Figure size 1296x720 with 1 Axes>"
      ]
     },
     "metadata": {},
     "output_type": "display_data"
    }
   ],
   "source": [
    "# Plot outputs\n",
    "fig_dims = (18, 10)\n",
    "fig, ax = plt.subplots(figsize=fig_dims)\n",
    "\n",
    "plt.scatter(y_test, y_pred_lin_test, color='blue', linewidth=3)\n",
    "ax.plot([0,1],[0,1], transform=ax.transAxes, color='red')\n",
    "\n",
    "plt.show()"
   ]
  },
  {
   "cell_type": "code",
   "execution_count": 53,
   "metadata": {},
   "outputs": [
    {
     "data": {
      "image/png": "[encoded data removed]",
      "text/plain": [
       "<Figure size 1440x720 with 1 Axes>"
      ]
     },
     "metadata": {},
     "output_type": "display_data"
    }
   ],
   "source": [
    "linear_pred = pd.DataFrame({'Actual': y_test[:30], 'Predicted': y_pred_lin_test[:30]})\n",
    "\n",
    "linear_pred.plot(title='Linear Regression Results',kind='bar',figsize=(20,10))\n",
    "plt.grid(which='major', linestyle='-', linewidth='0.5')\n",
    "plt.grid(which='minor', linestyle=':', linewidth='0.5')\n",
    "plt.show()"
   ]
  },
  {
   "cell_type": "code",
   "execution_count": 54,
   "metadata": {},
   "outputs": [
    {
     "data": {
      "text/html": [
       "<div>\n",
       "<style scoped>\n",
       "    .dataframe tbody tr th:only-of-type {\n",
       "        vertical-align: middle;\n",
       "    }\n",
       "\n",
       "    .dataframe tbody tr th {\n",
       "        vertical-align: top;\n",
       "    }\n",
       "\n",
       "    .dataframe thead th {\n",
       "        text-align: right;\n",
       "    }\n",
       "</style>\n",
       "<table border=\"1\" class=\"dataframe\">\n",
       "  <thead>\n",
       "    <tr style=\"text-align: right;\">\n",
       "      <th></th>\n",
       "      <th>term</th>\n",
       "      <th>int_rate</th>\n",
       "      <th>installment</th>\n",
       "      <th>grade</th>\n",
       "      <th>sub_grade</th>\n",
       "      <th>home_ownership</th>\n",
       "      <th>annual_inc</th>\n",
       "      <th>verification_status</th>\n",
       "      <th>purpose</th>\n",
       "      <th>open_acc</th>\n",
       "      <th>...</th>\n",
       "      <th>total_acc</th>\n",
       "      <th>out_prncp</th>\n",
       "      <th>out_prncp_inv</th>\n",
       "      <th>total_pymnt</th>\n",
       "      <th>total_pymnt_inv</th>\n",
       "      <th>total_rec_prncp</th>\n",
       "      <th>total_rec_int</th>\n",
       "      <th>total_rec_late_fee</th>\n",
       "      <th>recoveries</th>\n",
       "      <th>last_pymnt_amnt</th>\n",
       "    </tr>\n",
       "  </thead>\n",
       "  <tbody>\n",
       "    <tr>\n",
       "      <th>728</th>\n",
       "      <td>0</td>\n",
       "      <td>14.27</td>\n",
       "      <td>205.86</td>\n",
       "      <td>4</td>\n",
       "      <td>23</td>\n",
       "      <td>0</td>\n",
       "      <td>30000.0</td>\n",
       "      <td>2</td>\n",
       "      <td>0</td>\n",
       "      <td>5</td>\n",
       "      <td>...</td>\n",
       "      <td>12</td>\n",
       "      <td>0.0</td>\n",
       "      <td>0.0</td>\n",
       "      <td>6528.97000</td>\n",
       "      <td>6528.97</td>\n",
       "      <td>4997.41</td>\n",
       "      <td>1372.03</td>\n",
       "      <td>0.000000</td>\n",
       "      <td>159.53</td>\n",
       "      <td>205.86</td>\n",
       "    </tr>\n",
       "    <tr>\n",
       "      <th>630</th>\n",
       "      <td>1</td>\n",
       "      <td>18.64</td>\n",
       "      <td>696.35</td>\n",
       "      <td>2</td>\n",
       "      <td>14</td>\n",
       "      <td>2</td>\n",
       "      <td>65000.0</td>\n",
       "      <td>0</td>\n",
       "      <td>4</td>\n",
       "      <td>12</td>\n",
       "      <td>...</td>\n",
       "      <td>29</td>\n",
       "      <td>0.0</td>\n",
       "      <td>0.0</td>\n",
       "      <td>40977.76997</td>\n",
       "      <td>40939.90</td>\n",
       "      <td>27050.00</td>\n",
       "      <td>13927.77</td>\n",
       "      <td>0.000000</td>\n",
       "      <td>0.00</td>\n",
       "      <td>8945.67</td>\n",
       "    </tr>\n",
       "    <tr>\n",
       "      <th>394</th>\n",
       "      <td>0</td>\n",
       "      <td>11.71</td>\n",
       "      <td>132.31</td>\n",
       "      <td>5</td>\n",
       "      <td>27</td>\n",
       "      <td>0</td>\n",
       "      <td>24000.0</td>\n",
       "      <td>1</td>\n",
       "      <td>5</td>\n",
       "      <td>4</td>\n",
       "      <td>...</td>\n",
       "      <td>6</td>\n",
       "      <td>0.0</td>\n",
       "      <td>0.0</td>\n",
       "      <td>4185.93000</td>\n",
       "      <td>4185.93</td>\n",
       "      <td>4000.00</td>\n",
       "      <td>185.93</td>\n",
       "      <td>0.000000</td>\n",
       "      <td>0.00</td>\n",
       "      <td>3658.15</td>\n",
       "    </tr>\n",
       "    <tr>\n",
       "      <th>777</th>\n",
       "      <td>0</td>\n",
       "      <td>12.42</td>\n",
       "      <td>481.18</td>\n",
       "      <td>5</td>\n",
       "      <td>26</td>\n",
       "      <td>1</td>\n",
       "      <td>48000.0</td>\n",
       "      <td>2</td>\n",
       "      <td>0</td>\n",
       "      <td>14</td>\n",
       "      <td>...</td>\n",
       "      <td>16</td>\n",
       "      <td>0.0</td>\n",
       "      <td>0.0</td>\n",
       "      <td>17352.76502</td>\n",
       "      <td>17352.77</td>\n",
       "      <td>14400.00</td>\n",
       "      <td>2928.72</td>\n",
       "      <td>24.048048</td>\n",
       "      <td>0.00</td>\n",
       "      <td>504.22</td>\n",
       "    </tr>\n",
       "    <tr>\n",
       "      <th>598</th>\n",
       "      <td>1</td>\n",
       "      <td>19.42</td>\n",
       "      <td>560.09</td>\n",
       "      <td>2</td>\n",
       "      <td>12</td>\n",
       "      <td>0</td>\n",
       "      <td>80000.0</td>\n",
       "      <td>0</td>\n",
       "      <td>0</td>\n",
       "      <td>16</td>\n",
       "      <td>...</td>\n",
       "      <td>44</td>\n",
       "      <td>0.0</td>\n",
       "      <td>0.0</td>\n",
       "      <td>28119.77000</td>\n",
       "      <td>28119.77</td>\n",
       "      <td>21400.00</td>\n",
       "      <td>6719.77</td>\n",
       "      <td>0.000000</td>\n",
       "      <td>0.00</td>\n",
       "      <td>16372.02</td>\n",
       "    </tr>\n",
       "  </tbody>\n",
       "</table>\n",
       "<p>5 rows × 22 columns</p>\n",
       "</div>"
      ],
      "text/plain": [
       "     term  int_rate  installment  grade  sub_grade  home_ownership  \\\n",
       "728     0     14.27       205.86      4         23               0   \n",
       "630     1     18.64       696.35      2         14               2   \n",
       "394     0     11.71       132.31      5         27               0   \n",
       "777     0     12.42       481.18      5         26               1   \n",
       "598     1     19.42       560.09      2         12               0   \n",
       "\n",
       "     annual_inc  verification_status  purpose  open_acc  ...  total_acc  \\\n",
       "728     30000.0                    2        0         5  ...         12   \n",
       "630     65000.0                    0        4        12  ...         29   \n",
       "394     24000.0                    1        5         4  ...          6   \n",
       "777     48000.0                    2        0        14  ...         16   \n",
       "598     80000.0                    0        0        16  ...         44   \n",
       "\n",
       "     out_prncp  out_prncp_inv  total_pymnt  total_pymnt_inv  total_rec_prncp  \\\n",
       "728        0.0            0.0   6528.97000          6528.97          4997.41   \n",
       "630        0.0            0.0  40977.76997         40939.90         27050.00   \n",
       "394        0.0            0.0   4185.93000          4185.93          4000.00   \n",
       "777        0.0            0.0  17352.76502         17352.77         14400.00   \n",
       "598        0.0            0.0  28119.77000         28119.77         21400.00   \n",
       "\n",
       "     total_rec_int  total_rec_late_fee  recoveries  last_pymnt_amnt  \n",
       "728        1372.03            0.000000      159.53           205.86  \n",
       "630       13927.77            0.000000        0.00          8945.67  \n",
       "394         185.93            0.000000        0.00          3658.15  \n",
       "777        2928.72           24.048048        0.00           504.22  \n",
       "598        6719.77            0.000000        0.00         16372.02  \n",
       "\n",
       "[5 rows x 22 columns]"
      ]
     },
     "execution_count": 54,
     "metadata": {},
     "output_type": "execute_result"
    }
   ],
   "source": [
    "X_train.head()"
   ]
  },
  {
   "cell_type": "markdown",
   "metadata": {},
   "source": [
    "### We found out that \"installment\" has an unusually high correlation with CLI and decided to drop it so the model will be build in a fairer environment"
   ]
  },
  {
   "cell_type": "code",
   "execution_count": 55,
   "metadata": {},
   "outputs": [],
   "source": [
    "X_test, X_train = X_test.drop('installment',axis=1), X_train.drop('installment',axis=1)"
   ]
  },
  {
   "cell_type": "code",
   "execution_count": 56,
   "metadata": {},
   "outputs": [
    {
     "data": {
      "text/plain": [
       "LinearRegression(copy_X=True, fit_intercept=True, n_jobs=None, normalize=False)"
      ]
     },
     "execution_count": 56,
     "metadata": {},
     "output_type": "execute_result"
    }
   ],
   "source": [
    "linreg = LinearRegression()\n",
    "linreg.fit(X_train, y_train)"
   ]
  },
  {
   "cell_type": "code",
   "execution_count": 57,
   "metadata": {},
   "outputs": [
    {
     "name": "stdout",
     "output_type": "stream",
     "text": [
      "MAE: 1761.1788742353071\n",
      "MSE: 9036852.242623724\n",
      "R2: 0.7870301968041057\n"
     ]
    }
   ],
   "source": [
    "y_pred_lin = linreg.predict(X_test)\n",
    "\n",
    "from sklearn.metrics import mean_absolute_error\n",
    "\n",
    "print('MAE: '+str(mean_absolute_error(y_test, y_pred_lin)))\n",
    "\n",
    "from sklearn.metrics import mean_squared_error\n",
    "\n",
    "print('MSE: '+str(mean_squared_error(y_test, y_pred_lin)))\n",
    "\n",
    "from sklearn.metrics import r2_score\n",
    "\n",
    "print('R2: '+str(r2_score(y_test, y_pred_lin)))\n"
   ]
  },
  {
   "cell_type": "markdown",
   "metadata": {},
   "source": [
    "Now the result seems to be more reasonable"
   ]
  },
  {
   "cell_type": "code",
   "execution_count": 58,
   "metadata": {},
   "outputs": [
    {
     "data": {
      "image/png": "[encoded data removed]",
      "text/plain": [
       "<Figure size 1296x720 with 1 Axes>"
      ]
     },
     "metadata": {},
     "output_type": "display_data"
    }
   ],
   "source": [
    "# Plot outputs\n",
    "fig_dims = (18, 10)\n",
    "fig, ax = plt.subplots(figsize=fig_dims)\n",
    "\n",
    "plt.scatter(y_test, y_pred_lin, color='blue', linewidth=3)\n",
    "ax.plot([0,1],[0,1], transform=ax.transAxes, color='red')\n",
    "\n",
    "plt.show()"
   ]
  },
  {
   "cell_type": "markdown",
   "metadata": {},
   "source": [
    "After dropping \"installment\""
   ]
  },
  {
   "cell_type": "code",
   "execution_count": 59,
   "metadata": {},
   "outputs": [
    {
     "data": {
      "image/png": "[encoded data removed]",
      "text/plain": [
       "<Figure size 1440x720 with 1 Axes>"
      ]
     },
     "metadata": {},
     "output_type": "display_data"
    }
   ],
   "source": [
    "linear_pred = pd.DataFrame({'Actual': y_test[:30], 'Predicted': y_pred_lin[:30]})\n",
    "\n",
    "linear_pred.plot(title='Linear Regression Results w/o Installment',kind='bar',figsize=(20,10))\n",
    "plt.grid(which='major', linestyle='-', linewidth='0.5')\n",
    "plt.grid(which='minor', linestyle=':', linewidth='0.5')\n",
    "plt.show()"
   ]
  },
  {
   "cell_type": "markdown",
   "metadata": {},
   "source": [
    "## Using Random Forest Algorithem"
   ]
  },
  {
   "cell_type": "code",
   "execution_count": 60,
   "metadata": {},
   "outputs": [],
   "source": [
    "from sklearn.ensemble import RandomForestRegressor\n",
    "model = RandomForestRegressor()\n",
    "model.fit(X_train,y_train)\n",
    "y_pred_rm=model.predict(X_test)"
   ]
  },
  {
   "cell_type": "code",
   "execution_count": 61,
   "metadata": {},
   "outputs": [
    {
     "name": "stdout",
     "output_type": "stream",
     "text": [
      "MAE: 894.4108333333334\n",
      "MSE: 3082350.6410416667\n",
      "R2: 0.9273588201091587\n"
     ]
    }
   ],
   "source": [
    "from sklearn.metrics import mean_absolute_error\n",
    "\n",
    "print('MAE: '+str(mean_absolute_error(y_test, y_pred_rm)))\n",
    "\n",
    "from sklearn.metrics import mean_squared_error\n",
    "\n",
    "print('MSE: '+str(mean_squared_error(y_test, y_pred_rm)))\n",
    "\n",
    "from sklearn.metrics import r2_score\n",
    "\n",
    "print('R2: '+str(r2_score(y_test, y_pred_rm)))"
   ]
  },
  {
   "cell_type": "code",
   "execution_count": 62,
   "metadata": {},
   "outputs": [
    {
     "data": {
      "image/png": "[encoded data removed]",
      "text/plain": [
       "<Figure size 1440x720 with 1 Axes>"
      ]
     },
     "metadata": {},
     "output_type": "display_data"
    }
   ],
   "source": [
    "rm = pd.DataFrame({'Actual': y_test[:30], 'Predicted': y_pred_rm[:30]})\n",
    "\n",
    "rm.plot(title='Linear Regression Results using Random Forest', kind='bar',figsize=(20,10))\n",
    "plt.grid(which='major', linestyle='-', linewidth='0.5')\n",
    "plt.grid(which='minor', linestyle=':', linewidth='0.5')\n",
    "plt.show()"
   ]
  },
  {
   "cell_type": "code",
   "execution_count": 63,
   "metadata": {},
   "outputs": [
    {
     "data": {
      "image/png": "[encoded data removed]",
      "text/plain": [
       "<Figure size 1296x720 with 1 Axes>"
      ]
     },
     "metadata": {},
     "output_type": "display_data"
    }
   ],
   "source": [
    "# Plot outputs\n",
    "\n",
    "fig_dims = (18, 10)\n",
    "fig, ax = plt.subplots(figsize=fig_dims)\n",
    "\n",
    "plt.scatter(y_test, y_pred_rm, color='blue', linewidth=3)\n",
    "ax.plot([0,1],[0,1], transform=ax.transAxes, color='red')\n",
    "\n",
    "plt.show()"
   ]
  }
 ],
 "metadata": {
  "kernelspec": {
   "display_name": "Python 3",
   "language": "python",
   "name": "python3"
  },
  "language_info": {
   "codemirror_mode": {
    "name": "ipython",
    "version": 3
   },
   "file_extension": ".py",
   "mimetype": "text/x-python",
   "name": "python",
   "nbconvert_exporter": "python",
   "pygments_lexer": "ipython3",
   "version": "3.7.6"
  }
 },
 "nbformat": 4,
 "nbformat_minor": 4
}
